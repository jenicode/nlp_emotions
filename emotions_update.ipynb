{
 "cells": [
  {
   "cell_type": "markdown",
   "metadata": {
    "id": "sp7D0ktn5eiG"
   },
   "source": [
    "# Emotion Analysis using RNN\n"
   ]
  },
  {
   "cell_type": "markdown",
   "metadata": {
    "id": "dLnDPdYJiJHv"
   },
   "source": [
    "## 0. Instal Hugging Face's nlp Package"
   ]
  },
  {
   "cell_type": "code",
   "execution_count": 39,
   "metadata": {
    "colab": {
     "base_uri": "https://localhost:8080/"
    },
    "id": "5agZRy-45i0g",
    "outputId": "0e480392-362c-48b4-ec49-d2cdda488d61"
   },
   "outputs": [],
   "source": [
    "# !pip install nlp"
   ]
  },
  {
   "cell_type": "markdown",
   "metadata": {
    "id": "dLnDPdYJiJHv"
   },
   "source": [
    "## 1. Import the Libaries"
   ]
  },
  {
   "cell_type": "code",
   "execution_count": 40,
   "metadata": {
    "id": "yKFjWz6e5eiH"
   },
   "outputs": [],
   "source": [
    "import nlp\n",
    "import pandas as pd\n",
    "import numpy as np\n",
    "import matplotlib.pyplot as plt\n",
    "import tensorflow as tf\n",
    "\n",
    "from datetime import datetime\n",
    "from sklearn.metrics import confusion_matrix\n",
    "import warnings\n",
    "warnings.filterwarnings('ignore')"
   ]
  },
  {
   "cell_type": "code",
   "execution_count": 41,
   "metadata": {
    "colab": {
     "base_uri": "https://localhost:8080/"
    },
    "id": "cckUvwBo5eif",
    "outputId": "5a8e8d73-52a1-4789-ee67-8c64fa7334ed"
   },
   "outputs": [],
   "source": [
    "from tensorflow.keras.preprocessing.text import Tokenizer\n",
    "from tensorflow.keras.preprocessing.sequence import pad_sequences"
   ]
  },
  {
   "cell_type": "code",
   "execution_count": 42,
   "metadata": {},
   "outputs": [],
   "source": [
    "# print(nlp.__version__)\n",
    "# print(pd.__version__)\n",
    "# print(np.__version__)\n",
    "# print(tf.__version__)\n",
    "# print()"
   ]
  },
  {
   "cell_type": "code",
   "execution_count": 43,
   "metadata": {},
   "outputs": [],
   "source": [
    "# import streamlit as st\n",
    "# print(st.__version__)"
   ]
  },
  {
   "cell_type": "markdown",
   "metadata": {
    "id": "nvfVk2GNiJH5"
   },
   "source": [
    "## 2. Import the Dataset & Visualize the Distributions"
   ]
  },
  {
   "cell_type": "code",
   "execution_count": 44,
   "metadata": {
    "colab": {
     "base_uri": "https://localhost:8080/",
     "height": 342,
     "referenced_widgets": [
      "34ce67545af640338c2e45faf2650280",
      "a875b7badee144fb813b327c606f545d",
      "293bae3ebb4c441a8754e0079207525e",
      "691f56bfe2a9416fbdc502299980a72c",
      "ad1a1a98277140159597ef58d8c6a7cf",
      "e0e489347bf84eaa9e6736345796531e",
      "40ebf6be0eae475f80a4e95a42cb4daa",
      "9c730a7e068e457ca022b4a894a09a50",
      "30dd749c33a64eef957e3a3707a452d3",
      "22400b87b53c4330beb0312099dd2df0",
      "a7eecfb1ec74405db3ece070f0e90c75",
      "ff88935971644df1a1a8e8b19dfb0b40",
      "6fe32259eab64bc390880756b92604eb",
      "44457c66b4b646588d4a410b16638348",
      "3e84f0639d724728b12119f061fad032",
      "605b35fa125b42058498f468d19673b5",
      "f1af1d8a7c664c148cea0182a04ccde9",
      "0d9c55de07d24f8aa6b4f158de5b652c",
      "b53f977d035247008b5c64f99bbc3bd8",
      "709d672eca9f482296cf374e7b76845c",
      "674a43ccdfaa450da2cb7c0f9211a015",
      "6ca20d607e4446bba3569fbc59ebc9e5",
      "14685c5bf31a46b2b8a25e8c54e8bf11",
      "fc3865ada9874c0c943ac6a1cc27440a",
      "643a82a9cd1647c7bec72b193f962918",
      "752a64be75fa4dbabe89195495b1fec3",
      "d0dfb8e00d484e5cb1665a800fa2ac3a",
      "03b4ce1797e74e93bb06c37754ac5e9d",
      "be6259e1a31f40659caefeb58a64bc7e",
      "a235387c398e4d1cab2357f77ccfecaa",
      "33e3657c28dc46dca4b0de5108525b07",
      "a707ea427621483894d88c65153ee9d1",
      "e75566c54bd64f03835d2c4a01308ead",
      "f95d899e6d204500a1f0c2d9fd5e1f29",
      "afa2cdbc58b84ad6a47b1227320a3ab4",
      "a842d628f1c14d38b5eb97ceb1d3ee6d",
      "93a8c8d32807489897f3de3b346bd75e",
      "1a167cc1c7c5424390daeef688cb6fe8",
      "c0577dede98243109131765307992f9d",
      "0ffe701d471d49859c63eba763bfb149",
      "1a3ee52a06b04007adf3f6316146bb57",
      "74b822dcf74d42e4980df136c2ae678c",
      "e44979fabb774e2aa43fe9d69d61252c",
      "0a9a43b759f84eba837a65fa6b8f5b1c",
      "df61f9f8e1c446539e14abff3312f7bb",
      "165b8853010d484496c30fffa0ef5829",
      "e24a7e6e565b438796b74a6d7a875b37",
      "2c612b75986d48f39e521e2702edd657",
      "cedd341a7bf34e9ab6f5635e739d6bb6",
      "75776a5d595f42efa4c2fb8b28627bfb",
      "7d0a7e1f138d46429b9a26dfd051acb2",
      "23c6b292360f40eaaa2f85d10492d490",
      "a3113489080148c4893dfd20870b211e",
      "1f840d8e22cb410e940dd20a3aeb58c2",
      "7708a49b8e88497c9232ab49d411219a",
      "8f9c10a7b44d412f94c40b3bcd3d4ce4",
      "f4168ede76c845c7a5106fde9eaec5da",
      "5fc1df04d18948c0b87be10379ea51f3",
      "63459b39dc2b4cbca3f1fdaeb992a6ab",
      "a92791e4afcf4c03af792bc0fb2b120e",
      "700993c236754b2788db60f61c0a62c9",
      "9581dcfcdbf843abae1894341db61fe8",
      "3c3a644f36544640ab2255db0ec1f55c",
      "77fffd82779143d09bedc6bce25aada4"
     ]
    },
    "id": "0YHOvjAu5eiL",
    "outputId": "411eb4c0-7fd8-4c15-f388-85a530564000"
   },
   "outputs": [
    {
     "name": "stderr",
     "output_type": "stream",
     "text": [
      "Using custom data configuration default\n"
     ]
    }
   ],
   "source": [
    "dataset = nlp.load_dataset('emotion')"
   ]
  },
  {
   "cell_type": "code",
   "execution_count": 45,
   "metadata": {
    "colab": {
     "base_uri": "https://localhost:8080/",
     "height": 342,
     "referenced_widgets": [
      "34ce67545af640338c2e45faf2650280",
      "a875b7badee144fb813b327c606f545d",
      "293bae3ebb4c441a8754e0079207525e",
      "691f56bfe2a9416fbdc502299980a72c",
      "ad1a1a98277140159597ef58d8c6a7cf",
      "e0e489347bf84eaa9e6736345796531e",
      "40ebf6be0eae475f80a4e95a42cb4daa",
      "9c730a7e068e457ca022b4a894a09a50",
      "30dd749c33a64eef957e3a3707a452d3",
      "22400b87b53c4330beb0312099dd2df0",
      "a7eecfb1ec74405db3ece070f0e90c75",
      "ff88935971644df1a1a8e8b19dfb0b40",
      "6fe32259eab64bc390880756b92604eb",
      "44457c66b4b646588d4a410b16638348",
      "3e84f0639d724728b12119f061fad032",
      "605b35fa125b42058498f468d19673b5",
      "f1af1d8a7c664c148cea0182a04ccde9",
      "0d9c55de07d24f8aa6b4f158de5b652c",
      "b53f977d035247008b5c64f99bbc3bd8",
      "709d672eca9f482296cf374e7b76845c",
      "674a43ccdfaa450da2cb7c0f9211a015",
      "6ca20d607e4446bba3569fbc59ebc9e5",
      "14685c5bf31a46b2b8a25e8c54e8bf11",
      "fc3865ada9874c0c943ac6a1cc27440a",
      "643a82a9cd1647c7bec72b193f962918",
      "752a64be75fa4dbabe89195495b1fec3",
      "d0dfb8e00d484e5cb1665a800fa2ac3a",
      "03b4ce1797e74e93bb06c37754ac5e9d",
      "be6259e1a31f40659caefeb58a64bc7e",
      "a235387c398e4d1cab2357f77ccfecaa",
      "33e3657c28dc46dca4b0de5108525b07",
      "a707ea427621483894d88c65153ee9d1",
      "e75566c54bd64f03835d2c4a01308ead",
      "f95d899e6d204500a1f0c2d9fd5e1f29",
      "afa2cdbc58b84ad6a47b1227320a3ab4",
      "a842d628f1c14d38b5eb97ceb1d3ee6d",
      "93a8c8d32807489897f3de3b346bd75e",
      "1a167cc1c7c5424390daeef688cb6fe8",
      "c0577dede98243109131765307992f9d",
      "0ffe701d471d49859c63eba763bfb149",
      "1a3ee52a06b04007adf3f6316146bb57",
      "74b822dcf74d42e4980df136c2ae678c",
      "e44979fabb774e2aa43fe9d69d61252c",
      "0a9a43b759f84eba837a65fa6b8f5b1c",
      "df61f9f8e1c446539e14abff3312f7bb",
      "165b8853010d484496c30fffa0ef5829",
      "e24a7e6e565b438796b74a6d7a875b37",
      "2c612b75986d48f39e521e2702edd657",
      "cedd341a7bf34e9ab6f5635e739d6bb6",
      "75776a5d595f42efa4c2fb8b28627bfb",
      "7d0a7e1f138d46429b9a26dfd051acb2",
      "23c6b292360f40eaaa2f85d10492d490",
      "a3113489080148c4893dfd20870b211e",
      "1f840d8e22cb410e940dd20a3aeb58c2",
      "7708a49b8e88497c9232ab49d411219a",
      "8f9c10a7b44d412f94c40b3bcd3d4ce4",
      "f4168ede76c845c7a5106fde9eaec5da",
      "5fc1df04d18948c0b87be10379ea51f3",
      "63459b39dc2b4cbca3f1fdaeb992a6ab",
      "a92791e4afcf4c03af792bc0fb2b120e",
      "700993c236754b2788db60f61c0a62c9",
      "9581dcfcdbf843abae1894341db61fe8",
      "3c3a644f36544640ab2255db0ec1f55c",
      "77fffd82779143d09bedc6bce25aada4"
     ]
    },
    "id": "0YHOvjAu5eiL",
    "outputId": "411eb4c0-7fd8-4c15-f388-85a530564000"
   },
   "outputs": [
    {
     "data": {
      "text/plain": [
       "{'train': Dataset(features: {'text': Value(dtype='string', id=None), 'label': Value(dtype='string', id=None)}, num_rows: 16000),\n",
       " 'validation': Dataset(features: {'text': Value(dtype='string', id=None), 'label': Value(dtype='string', id=None)}, num_rows: 2000),\n",
       " 'test': Dataset(features: {'text': Value(dtype='string', id=None), 'label': Value(dtype='string', id=None)}, num_rows: 2000)}"
      ]
     },
     "execution_count": 45,
     "metadata": {},
     "output_type": "execute_result"
    }
   ],
   "source": [
    "dataset"
   ]
  },
  {
   "cell_type": "code",
   "execution_count": 46,
   "metadata": {
    "id": "z7eCnxU25eiN"
   },
   "outputs": [
    {
     "data": {
      "text/plain": [
       "{'label': 'anger',\n",
       " 'text': 'i feel irritated and rejected without anyone doing anything or saying anything'}"
      ]
     },
     "execution_count": 46,
     "metadata": {},
     "output_type": "execute_result"
    }
   ],
   "source": [
    "train = dataset['train']\n",
    "train[20]"
   ]
  },
  {
   "cell_type": "code",
   "execution_count": 47,
   "metadata": {
    "id": "oDYXMfZy5eiP"
   },
   "outputs": [],
   "source": [
    "# Get lists of tweets & labels\n",
    "def get_tweets(data):\n",
    "    tweets = [d['text'] for d in data]\n",
    "    labels = [d['label'] for d in data]\n",
    "    return tweets, labels\n",
    "\n",
    "tweets, labels = get_tweets(train)"
   ]
  },
  {
   "cell_type": "code",
   "execution_count": 48,
   "metadata": {},
   "outputs": [
    {
     "data": {
      "text/plain": [
       "['fear', 'love', 'anger', 'joy', 'surprise', 'sadness']"
      ]
     },
     "execution_count": 48,
     "metadata": {},
     "output_type": "execute_result"
    }
   ],
   "source": [
    "# get classes\n",
    "classes =   list(set(labels))\n",
    "classes"
   ]
  },
  {
   "cell_type": "code",
   "execution_count": 49,
   "metadata": {},
   "outputs": [
    {
     "data": {
      "text/plain": [
       "[1937, 1304, 2159, 5362, 572, 4666]"
      ]
     },
     "execution_count": 49,
     "metadata": {},
     "output_type": "execute_result"
    }
   ],
   "source": [
    "# Count each class\n",
    "counts = [labels.count(c) for c in classes]\n",
    "counts"
   ]
  },
  {
   "cell_type": "code",
   "execution_count": 50,
   "metadata": {},
   "outputs": [
    {
     "data": {
      "image/png": "[encoded data removed]",
      "text/plain": [
       "<Figure size 360x360 with 1 Axes>"
      ]
     },
     "metadata": {},
     "output_type": "display_data"
    }
   ],
   "source": [
    "fig = plt.figure(figsize =(5,5))\n",
    "plt.pie(counts, labels = classes)\n",
    "plt.title('Distibution of the Training Data')\n",
    "plt.show()"
   ]
  },
  {
   "cell_type": "code",
   "execution_count": 51,
   "metadata": {},
   "outputs": [
    {
     "name": "stdout",
     "output_type": "stream",
     "text": [
      "Attention: There is an inbalance in the dataset ,which may cause issues in the predictions!\n"
     ]
    }
   ],
   "source": [
    "print('Attention: There is an inbalance in the dataset', ',which may cause issues in the predictions!')"
   ]
  },
  {
   "cell_type": "markdown",
   "metadata": {},
   "source": [
    "## 3. Relabel the Emotions in the Dataset"
   ]
  },
  {
   "cell_type": "code",
   "execution_count": 52,
   "metadata": {},
   "outputs": [
    {
     "data": {
      "text/plain": [
       "({0: 'fear', 1: 'love', 2: 'anger', 3: 'joy', 4: 'surprise', 5: 'sadness'},\n",
       " {'fear': 0, 'love': 1, 'anger': 2, 'joy': 3, 'surprise': 4, 'sadness': 5})"
      ]
     },
     "execution_count": 52,
     "metadata": {},
     "output_type": "execute_result"
    }
   ],
   "source": [
    "# convert the classes to nums =  [0,1,2,3,4,5]\n",
    "\n",
    "nums_to_names = dict(enumerate(classes))\n",
    "names_to_nums = {v:k for (k,v) in nums_to_names.items()}\n",
    "nums_to_names, names_to_nums"
   ]
  },
  {
   "cell_type": "code",
   "execution_count": 53,
   "metadata": {},
   "outputs": [],
   "source": [
    "def relabel_names_to_nums(names_to_nums, labels):\n",
    "    new_labels = [names_to_nums[label]  for label in labels]     \n",
    "    return new_labels\n",
    "\n",
    "def load_datasets(data, names_to_nums):\n",
    "    DATA_COLUMN = 'tweets'\n",
    "    LABEL_COLUMN = 'labels'\n",
    "    tweets, labels = get_tweets(data)\n",
    "    new_labels = relabel_names_to_nums(names_to_nums, labels)\n",
    "    dataframe = pd.DataFrame(list(zip(tweets, new_labels)),\n",
    "               columns =[DATA_COLUMN, LABEL_COLUMN])\n",
    "    return dataframe"
   ]
  },
  {
   "cell_type": "code",
   "execution_count": 54,
   "metadata": {},
   "outputs": [],
   "source": [
    "test, val = dataset['test'], dataset['validation']\n",
    "\n",
    "train_df = load_datasets(train, names_to_nums)\n",
    "test_df = load_datasets(test, names_to_nums)\n",
    "val_df = load_datasets(val, names_to_nums)"
   ]
  },
  {
   "cell_type": "markdown",
   "metadata": {
    "id": "5AwQt4AgiJIJ"
   },
   "source": [
    "## 4. Get the Maximum Length of the Tweets"
   ]
  },
  {
   "cell_type": "code",
   "execution_count": 55,
   "metadata": {},
   "outputs": [
    {
     "name": "stdout",
     "output_type": "stream",
     "text": [
      "20000\n"
     ]
    },
    {
     "data": {
      "image/png": "[encoded data removed]",
      "text/plain": [
       "<Figure size 360x288 with 1 Axes>"
      ]
     },
     "metadata": {
      "needs_background": "light"
     },
     "output_type": "display_data"
    }
   ],
   "source": [
    "DATA_COLUMN = 'tweets'\n",
    "LABEL_COLUMN = 'labels'\n",
    "    \n",
    "all_tweets = list(train_df[DATA_COLUMN]) + list(test_df[DATA_COLUMN]) + list(val_df[DATA_COLUMN])\n",
    "lengths = [len(text.split(' ')) for text in all_tweets]\n",
    "print(len(all_tweets))\n",
    "\n",
    "fig = plt.figure(figsize = (5,4))\n",
    "plt.hist(lengths, bins=len(set(lengths)))\n",
    "plt.xlabel('Lengths')\n",
    "plt.ylabel('No. of Elements')\n",
    "plt.savefig('length_of_tweets.png')\n",
    "plt.show()"
   ]
  },
  {
   "cell_type": "code",
   "execution_count": 56,
   "metadata": {},
   "outputs": [
    {
     "data": {
      "text/plain": [
       "(66, 70)"
      ]
     },
     "execution_count": 56,
     "metadata": {},
     "output_type": "execute_result"
    }
   ],
   "source": [
    "max_length = (max(lengths)//10 +1)*10 \n",
    "max(lengths), max_length"
   ]
  },
  {
   "cell_type": "markdown",
   "metadata": {
    "id": "9guH0-5qiJII"
   },
   "source": [
    "## 5. Tokenize the Tweets & Pad Sequences"
   ]
  },
  {
   "cell_type": "code",
   "execution_count": 57,
   "metadata": {},
   "outputs": [
    {
     "name": "stdout",
     "output_type": "stream",
     "text": [
      "[[2, 3, 497, 4, 548, 174, 260, 149, 163, 35, 369, 163]]\n"
     ]
    }
   ],
   "source": [
    "tokenizer = Tokenizer(num_words=10000, oov_token='<UNK>')\n",
    "tokenizer.fit_on_texts(all_tweets)\n",
    "\n",
    "print(tokenizer.texts_to_sequences([all_tweets[20]]))"
   ]
  },
  {
   "cell_type": "code",
   "execution_count": 58,
   "metadata": {},
   "outputs": [],
   "source": [
    "df_train = train_df.sample(frac =1)\n",
    "df_test = test_df.sample(frac =1)\n",
    "df_val = val_df.sample(frac =1)"
   ]
  },
  {
   "cell_type": "code",
   "execution_count": 59,
   "metadata": {},
   "outputs": [],
   "source": [
    "def prepare_datasets(tokenizer, Dataframe):\n",
    "    DATA_COLUMN = 'tweets'\n",
    "    LABEL_COLUMN = 'labels'\n",
    "    ### get_sequences\n",
    "    tweets = list(Dataframe[DATA_COLUMN])\n",
    "    sequences = tokenizer.texts_to_sequences(tweets)\n",
    "    padded_sequences = pad_sequences(sequences, truncating='post', maxlen=max_length, padding='post')\n",
    "    ### get labels -- np.array\n",
    "    labels = np.array(Dataframe[LABEL_COLUMN])\n",
    "    #####\n",
    "    return tweets, padded_sequences, labels\n",
    "\n",
    "train_tweets, train_padded_sequences,  train_labels = prepare_datasets(tokenizer, df_train)\n",
    "test_tweets, test_padded_sequences,  test_labels = prepare_datasets(tokenizer, df_test)\n",
    "val_tweets, val_padded_sequences,  val_labels = prepare_datasets(tokenizer, df_val)"
   ]
  },
  {
   "cell_type": "markdown",
   "metadata": {
    "id": "bD4np-KsiJIS"
   },
   "source": [
    "## 6. Create the Model"
   ]
  },
  {
   "cell_type": "code",
   "execution_count": 60,
   "metadata": {
    "colab": {
     "base_uri": "https://localhost:8080/"
    },
    "id": "OpewXxPQ5eji",
    "outputId": "b5c14cc7-90de-4934-9826-7787fc294cb8"
   },
   "outputs": [
    {
     "name": "stdout",
     "output_type": "stream",
     "text": [
      "Model: \"sequential\"\n",
      "_________________________________________________________________\n",
      " Layer (type)                Output Shape              Param #   \n",
      "=================================================================\n",
      " embedding (Embedding)       (None, 70, 16)            160000    \n",
      "                                                                 \n",
      " bidirectional (Bidirectiona  (None, 70, 40)           5920      \n",
      " l)                                                              \n",
      "                                                                 \n",
      " bidirectional_1 (Bidirectio  (None, 40)               9760      \n",
      " nal)                                                            \n",
      "                                                                 \n",
      " dropout (Dropout)           (None, 40)                0         \n",
      "                                                                 \n",
      " dense (Dense)               (None, 6)                 246       \n",
      "                                                                 \n",
      "=================================================================\n",
      "Total params: 175,926\n",
      "Trainable params: 175,926\n",
      "Non-trainable params: 0\n",
      "_________________________________________________________________\n"
     ]
    }
   ],
   "source": [
    "# \n",
    "model = tf.keras.models.Sequential([\n",
    "    tf.keras.layers.Embedding(10000, 16, input_length=max_length, mask_zero=True),\n",
    "    tf.keras.layers.Bidirectional(tf.keras.layers.LSTM(20, return_sequences=True)),\n",
    "    tf.keras.layers.Bidirectional(tf.keras.layers.LSTM(20)),\n",
    "    tf.keras.layers.Dropout(0.5),\n",
    "    tf.keras.layers.Dense(6, activation='softmax'),\n",
    "])\n",
    "\n",
    "model.compile(\n",
    "    loss='sparse_categorical_crossentropy',\n",
    "    optimizer='adam',\n",
    "    metrics=['accuracy']\n",
    ")\n",
    "\n",
    "model.summary()"
   ]
  },
  {
   "cell_type": "markdown",
   "metadata": {
    "id": "XiU-m6wEiJIT"
   },
   "source": [
    "## 7. Train the Model"
   ]
  },
  {
   "cell_type": "code",
   "execution_count": 61,
   "metadata": {
    "colab": {
     "base_uri": "https://localhost:8080/"
    },
    "id": "bzBqnWQ-5ejw",
    "outputId": "0bc22944-c411-402c-f760-285364fa581e"
   },
   "outputs": [
    {
     "name": "stdout",
     "output_type": "stream",
     "text": [
      "Beginning Training! \n",
      "\n",
      "Epoch 1/15\n",
      "500/500 [==============================] - 42s 68ms/step - loss: 1.3343 - accuracy: 0.4531 - val_loss: 0.8449 - val_accuracy: 0.7010\n",
      "Epoch 2/15\n",
      "500/500 [==============================] - 29s 57ms/step - loss: 0.6141 - accuracy: 0.7863 - val_loss: 0.5648 - val_accuracy: 0.7975\n",
      "Epoch 3/15\n",
      "500/500 [==============================] - 28s 57ms/step - loss: 0.3617 - accuracy: 0.8832 - val_loss: 0.5047 - val_accuracy: 0.8275\n",
      "Epoch 4/15\n",
      "500/500 [==============================] - 28s 56ms/step - loss: 0.2516 - accuracy: 0.9210 - val_loss: 0.4190 - val_accuracy: 0.8665\n",
      "Epoch 5/15\n",
      "500/500 [==============================] - 28s 56ms/step - loss: 0.1890 - accuracy: 0.9446 - val_loss: 0.4237 - val_accuracy: 0.8825\n",
      "Epoch 6/15\n",
      "500/500 [==============================] - 29s 58ms/step - loss: 0.1530 - accuracy: 0.9548 - val_loss: 0.4002 - val_accuracy: 0.8895\n",
      "Epoch 7/15\n",
      "500/500 [==============================] - 28s 57ms/step - loss: 0.1270 - accuracy: 0.9636 - val_loss: 0.4184 - val_accuracy: 0.8855\n",
      "Epoch 8/15\n",
      "500/500 [==============================] - 33s 67ms/step - loss: 0.1008 - accuracy: 0.9715 - val_loss: 0.4112 - val_accuracy: 0.8870\n",
      "\n",
      " Training took time  0:04:06.493404\n"
     ]
    }
   ],
   "source": [
    "print(f'Beginning Training!', '\\n')\n",
    "current_time = datetime.now()\n",
    "\n",
    "h = model.fit(\n",
    "    train_padded_sequences, train_labels,\n",
    "    validation_data=(val_padded_sequences, val_labels),\n",
    "    epochs=15,\n",
    "    callbacks=[\n",
    "        tf.keras.callbacks.EarlyStopping(monitor='val_accuracy', patience=2)\n",
    "    ]\n",
    ")\n",
    "\n",
    "print('\\n', \"Training took time \", datetime.now() - current_time)"
   ]
  },
  {
   "cell_type": "markdown",
   "metadata": {
    "id": "kiKaj-3RiJIV"
   },
   "source": [
    "## 8. Plot the Training History"
   ]
  },
  {
   "cell_type": "code",
   "execution_count": 62,
   "metadata": {
    "scrolled": true
   },
   "outputs": [
    {
     "data": {
      "text/plain": [
       "['loss', 'accuracy', 'val_loss', 'val_accuracy']"
      ]
     },
     "execution_count": 62,
     "metadata": {},
     "output_type": "execute_result"
    }
   ],
   "source": [
    "list(h.history.keys())"
   ]
  },
  {
   "cell_type": "code",
   "execution_count": 63,
   "metadata": {
    "colab": {
     "base_uri": "https://localhost:8080/",
     "height": 392
    },
    "id": "PbI05hwKiJIV",
    "outputId": "a4cdfca3-e0f4-427b-ff7a-03e91659c496"
   },
   "outputs": [],
   "source": [
    "def plot_history(h):\n",
    "    epochs = len(h.history['loss'])\n",
    "    fig = plt.figure(figsize=(12, 5))\n",
    "\n",
    "    plt.subplot(1, 2, 1)\n",
    "    plt.plot(range(1,epochs+1), h.history.get('accuracy'), 'b-o', label='Training')\n",
    "    plt.plot(range(1,epochs+1), h.history.get('val_accuracy'), 'k-o', label='Validation')\n",
    "    plt.ylim([0., 1.])\n",
    "    plt.xlabel('Epochs', fontsize = 12)\n",
    "    plt.ylabel('Accuracy', fontsize = 12)\n",
    "    plt.title('Epochs Vs Accuracy' , fontsize = 16)\n",
    "    plt.legend(fontsize = 11)\n",
    "\n",
    "\n",
    "    plt.subplot(1, 2, 2)\n",
    "    plt.plot(range(1,epochs+1), h.history.get('loss'), 'b-*', label='Training')\n",
    "    plt.plot(range(1,epochs+1), h.history.get('val_loss'), 'k-*', label='Validation')\n",
    "#     plt.ylim([0., 1.])\n",
    "    plt.xlabel('Epochs', fontsize = 12)\n",
    "    plt.ylabel('Loss', fontsize = 12)\n",
    "    plt.title('Epochs Vs Loss' , fontsize = 16)\n",
    "    plt.legend(fontsize = 11)\n",
    "    plt.savefig('Accuracy_Loss.png')\n",
    "    plt.show()"
   ]
  },
  {
   "cell_type": "code",
   "execution_count": 64,
   "metadata": {
    "colab": {
     "base_uri": "https://localhost:8080/",
     "height": 392
    },
    "id": "PbI05hwKiJIV",
    "outputId": "a4cdfca3-e0f4-427b-ff7a-03e91659c496"
   },
   "outputs": [
    {
     "data": {
      "image/png": "[encoded data removed]",
      "text/plain": [
       "<Figure size 864x360 with 2 Axes>"
      ]
     },
     "metadata": {
      "needs_background": "light"
     },
     "output_type": "display_data"
    }
   ],
   "source": [
    "plot_history(h)"
   ]
  },
  {
   "cell_type": "markdown",
   "metadata": {
    "id": "kiKaj-3RiJIV"
   },
   "source": [
    "## 9. Evaluate the Model"
   ]
  },
  {
   "cell_type": "code",
   "execution_count": 65,
   "metadata": {
    "colab": {
     "base_uri": "https://localhost:8080/"
    },
    "id": "aM7kditpiJIV",
    "outputId": "74835320-d476-4916-8231-d6a92f5501d4"
   },
   "outputs": [
    {
     "name": "stdout",
     "output_type": "stream",
     "text": [
      "63/63 [==============================] - 2s 30ms/step - loss: 0.3746 - accuracy: 0.9030\n"
     ]
    }
   ],
   "source": [
    "eval = model.evaluate(test_padded_sequences, test_labels)"
   ]
  },
  {
   "cell_type": "code",
   "execution_count": 66,
   "metadata": {},
   "outputs": [],
   "source": [
    "def get_padded_sequences(pred_sentences, tokenizer):\n",
    "    ### get_sequences\n",
    "    sequences = tokenizer.texts_to_sequences(pred_sentences)\n",
    "    ###\n",
    "    padded_sequences = pad_sequences(sequences, truncating='post', maxlen=max_length, padding='post')    \n",
    "    return padded_sequences\n",
    "\n",
    "def predictions(pred_sentences):\n",
    "    pred_sequences = get_padded_sequences(pred_sentences, tokenizer=tokenizer)\n",
    "    predicts = model.predict(pred_sequences)\n",
    "    classes=np.argmax(predicts, axis=-1)\n",
    "    return  [(sentence, nums_to_names[class_]) for sentence, class_ in zip(pred_sentences, classes)]"
   ]
  },
  {
   "cell_type": "code",
   "execution_count": 67,
   "metadata": {},
   "outputs": [
    {
     "name": "stdout",
     "output_type": "stream",
     "text": [
      "1/1 [==============================] - 7s 7s/step\n"
     ]
    },
    {
     "data": {
      "text/plain": [
       "[('i have been feeling regretful recently that i did not know back then that the abuse was not my fault and that it did not happen because of who i was but because of who they were',\n",
       "  'sadness'),\n",
       " ('i think i love her enough now to feel pretty insulted and rawr about it',\n",
       "  'anger'),\n",
       " ('i first read this book during college and it has helped me cope with the feeling of helplessness and fear of the uncertain future',\n",
       "  'sadness'),\n",
       " ('i sometimes feel like a damaged product', 'sadness'),\n",
       " ('i didnt make it to my weight watchers meeting feeling guilty i made sure i had a healthy breakfast consisting of museli yoghurt and fruit',\n",
       "  'sadness')]"
      ]
     },
     "execution_count": 67,
     "metadata": {},
     "output_type": "execute_result"
    }
   ],
   "source": [
    "# Radomly select # 5 # tweets from test_dataframe & predict \n",
    "num_to_select = 5\n",
    "\n",
    "pred_samples = df_test.sample(num_to_select)\n",
    "selected_sentences = list(pred_samples[DATA_COLUMN])\n",
    "\n",
    "selected_label_nums = list(pred_samples[LABEL_COLUMN])\n",
    "selected_labels = [nums_to_names[x] for x in selected_label_nums]\n",
    "\n",
    "preds = predictions(selected_sentences)\n",
    "preds"
   ]
  },
  {
   "cell_type": "code",
   "execution_count": 68,
   "metadata": {},
   "outputs": [
    {
     "data": {
      "text/plain": [
       "(['sadness', 'anger', 'sadness', 'sadness', 'sadness'],\n",
       " ['sadness', 'anger', 'fear', 'sadness', 'sadness'])"
      ]
     },
     "execution_count": 68,
     "metadata": {},
     "output_type": "execute_result"
    }
   ],
   "source": [
    "predicted_labels = [v for (k,v) in preds]\n",
    "predicted_labels, selected_labels"
   ]
  },
  {
   "cell_type": "code",
   "execution_count": 69,
   "metadata": {
    "colab": {
     "base_uri": "https://localhost:8080/",
     "height": 472
    },
    "id": "3nLW-iSYiJIX",
    "outputId": "4ea77330-8ef5-4e76-cac9-494e4bf21663"
   },
   "outputs": [
    {
     "name": "stdout",
     "output_type": "stream",
     "text": [
      "63/63 [==============================] - 1s 22ms/step\n"
     ]
    }
   ],
   "source": [
    "#  Predict the whole test_data\n",
    "test_tweets, test_labels = get_tweets(test)\n",
    "preds = predictions(test_tweets)\n",
    "predicted_labels = [v for (k,v) in preds]"
   ]
  },
  {
   "cell_type": "code",
   "execution_count": 70,
   "metadata": {
    "colab": {
     "base_uri": "https://localhost:8080/",
     "height": 472
    },
    "id": "3nLW-iSYiJIX",
    "outputId": "4ea77330-8ef5-4e76-cac9-494e4bf21663"
   },
   "outputs": [
    {
     "data": {
      "image/png": "[encoded data removed]",
      "text/plain": [
       "<Figure size 576x432 with 2 Axes>"
      ]
     },
     "metadata": {
      "needs_background": "light"
     },
     "output_type": "display_data"
    }
   ],
   "source": [
    "# Plot the confusion_matrix of the prediction\n",
    "\n",
    "def plot_confusion_matrix(val_true, val_pred, classes):  \n",
    "    \n",
    "    cm = confusion_matrix(val_true, val_pred, normalize='true')\n",
    "    \n",
    "    fig = plt.figure(figsize=(8, 6))\n",
    "    ax = fig.add_subplot(111)\n",
    "    color_cm = ax.matshow(cm)\n",
    "    \n",
    "    plt.xticks(range(len(classes)), labels=classes, fontsize = 12)\n",
    "    ax.tick_params(top=False, labeltop=False, bottom=True, labelbottom=True)\n",
    "    plt.yticks(range(len(classes)), labels=classes, fontsize = 12)\n",
    "    plt.colorbar(color_cm)\n",
    "    plt.title('The Confusion Matrix of the Prediction -- Test' , fontsize = 16)\n",
    "    plt.savefig('confusion_matrix_test.png')\n",
    "    plt.show()\n",
    "   \n",
    "plot_confusion_matrix(test_labels, predicted_labels, classes)"
   ]
  },
  {
   "cell_type": "markdown",
   "metadata": {
    "id": "kiKaj-3RiJIV"
   },
   "source": [
    "## 10. Predict Inputs "
   ]
  },
  {
   "cell_type": "code",
   "execution_count": 71,
   "metadata": {},
   "outputs": [],
   "source": [
    "pred_sentences = [\n",
    "  \"That movie was absolutely awful!\",\n",
    "  \"This is bloodly good\",\n",
    "  \"The film was creative and surprising\",\n",
    "  \"Absolutely fantastic!\",\n",
    "  \"Go to the hell!\",\n",
    "  \"You are so stupid!\",\n",
    "  \"I don't belong here and must leave right now!\"\n",
    "]"
   ]
  },
  {
   "cell_type": "code",
   "execution_count": 72,
   "metadata": {},
   "outputs": [
    {
     "name": "stdout",
     "output_type": "stream",
     "text": [
      "1/1 [==============================] - 0s 41ms/step\n"
     ]
    },
    {
     "data": {
      "text/plain": [
       "[('That movie was absolutely awful!', 'sadness'),\n",
       " ('This is bloodly good', 'joy'),\n",
       " ('The film was creative and surprising', 'joy'),\n",
       " ('Absolutely fantastic!', 'joy'),\n",
       " ('Go to the hell!', 'anger'),\n",
       " ('You are so stupid!', 'sadness'),\n",
       " (\"I don't belong here and must leave right now!\", 'sadness')]"
      ]
     },
     "execution_count": 72,
     "metadata": {},
     "output_type": "execute_result"
    }
   ],
   "source": [
    "preds = predictions(pred_sentences)\n",
    "preds"
   ]
  },
  {
   "cell_type": "code",
   "execution_count": 73,
   "metadata": {},
   "outputs": [
    {
     "data": {
      "text/plain": [
       "['sadness', 'joy', 'joy', 'joy', 'anger', 'sadness', 'sadness']"
      ]
     },
     "execution_count": 73,
     "metadata": {},
     "output_type": "execute_result"
    }
   ],
   "source": [
    "predicted_labels = [v for (k,v) in preds]\n",
    "predicted_labels"
   ]
  },
  {
   "cell_type": "markdown",
   "metadata": {
    "id": "kiKaj-3RiJIV"
   },
   "source": [
    "## 11. Save & Reload the Trained Model"
   ]
  },
  {
   "cell_type": "code",
   "execution_count": 74,
   "metadata": {},
   "outputs": [],
   "source": [
    "saved_model_path = 'HuggingFace_nlp_emotion_RNN'"
   ]
  },
  {
   "cell_type": "code",
   "execution_count": 75,
   "metadata": {},
   "outputs": [
    {
     "name": "stderr",
     "output_type": "stream",
     "text": [
      "WARNING:absl:Found untraced functions such as lstm_cell_7_layer_call_fn, lstm_cell_7_layer_call_and_return_conditional_losses, lstm_cell_8_layer_call_fn, lstm_cell_8_layer_call_and_return_conditional_losses, lstm_cell_10_layer_call_fn while saving (showing 5 of 8). These functions will not be directly callable after loading.\n"
     ]
    },
    {
     "name": "stdout",
     "output_type": "stream",
     "text": [
      "INFO:tensorflow:Assets written to: HuggingFace_nlp_emotion_RNN\\assets\n"
     ]
    },
    {
     "name": "stderr",
     "output_type": "stream",
     "text": [
      "INFO:tensorflow:Assets written to: HuggingFace_nlp_emotion_RNN\\assets\n"
     ]
    }
   ],
   "source": [
    "model.save(saved_model_path)"
   ]
  },
  {
   "cell_type": "code",
   "execution_count": 76,
   "metadata": {},
   "outputs": [],
   "source": [
    "reloaded_model = tf.keras.models.load_model(saved_model_path)"
   ]
  },
  {
   "cell_type": "code",
   "execution_count": 77,
   "metadata": {},
   "outputs": [],
   "source": [
    "def reloaded_model_predictions(pred_sentences):\n",
    "    pred_sequences = get_padded_sequences(pred_sentences, tokenizer=tokenizer)\n",
    "#     print(pred_sequences)\n",
    "    predicts = reloaded_model.predict(pred_sequences)\n",
    "#     print(predicts)\n",
    "    classes=np.argmax(predicts, axis=-1)\n",
    "    return  [(sentence, nums_to_names[class_]) for sentence, class_ in zip(pred_sentences, classes)]"
   ]
  },
  {
   "cell_type": "code",
   "execution_count": 85,
   "metadata": {},
   "outputs": [],
   "source": [
    "pred_sentences = [\n",
    "  \"That movie was absolutely awful!\",\n",
    "  \"This is bloodly good\",\n",
    "  \"The film was creative and surprising\",\n",
    "  \"Absolutely fantastic!\",\n",
    "  \"Go to hell!\",\n",
    "  \"You are so stupid!\",\n",
    "  \"I hate to say this\",\n",
    "  \"I don't belong here and must leave right now!\"\n",
    "]"
   ]
  },
  {
   "cell_type": "code",
   "execution_count": 86,
   "metadata": {},
   "outputs": [
    {
     "name": "stdout",
     "output_type": "stream",
     "text": [
      "1/1 [==============================] - 0s 41ms/step\n"
     ]
    },
    {
     "data": {
      "text/plain": [
       "[('That movie was absolutely awful!', 'sadness'),\n",
       " ('This is bloodly good', 'joy'),\n",
       " ('The film was creative and surprising', 'joy'),\n",
       " ('Absolutely fantastic!', 'joy'),\n",
       " ('Go to hell!', 'anger'),\n",
       " ('You are so stupid!', 'sadness'),\n",
       " ('I hate to say this', 'sadness'),\n",
       " (\"I don't belong here and must leave right now!\", 'sadness')]"
      ]
     },
     "execution_count": 86,
     "metadata": {},
     "output_type": "execute_result"
    }
   ],
   "source": [
    "max_length = 70\n",
    "preds = reloaded_model_predictions(pred_sentences)\n",
    "preds"
   ]
  },
  {
   "cell_type": "code",
   "execution_count": 87,
   "metadata": {},
   "outputs": [
    {
     "data": {
      "text/plain": [
       "['sadness', 'joy', 'joy', 'joy', 'anger', 'sadness', 'sadness', 'sadness']"
      ]
     },
     "execution_count": 87,
     "metadata": {},
     "output_type": "execute_result"
    }
   ],
   "source": [
    "predicted_labels = [v for (k,v) in preds]\n",
    "predicted_labels"
   ]
  },
  {
   "cell_type": "code",
   "execution_count": 81,
   "metadata": {},
   "outputs": [
    {
     "data": {
      "text/plain": [
       "{0: 'fear', 1: 'love', 2: 'anger', 3: 'joy', 4: 'surprise', 5: 'sadness'}"
      ]
     },
     "execution_count": 81,
     "metadata": {},
     "output_type": "execute_result"
    }
   ],
   "source": [
    "nums_to_names"
   ]
  },
  {
   "cell_type": "code",
   "execution_count": null,
   "metadata": {},
   "outputs": [],
   "source": []
  }
 ],
 "metadata": {
  "accelerator": "GPU",
  "colab": {
   "collapsed_sections": [],
   "name": "Twitter Emotion Recognition using RNN.ipynb",
   "provenance": []
  },
  "kernelspec": {
   "display_name": "Python 3 (ipykernel)",
   "language": "python",
   "name": "python3"
  },
  "language_info": {
   "codemirror_mode": {
    "name": "ipython",
    "version": 3
   },
   "file_extension": ".py",
   "mimetype": "text/x-python",
   "name": "python",
   "nbconvert_exporter": "python",
   "pygments_lexer": "ipython3",
   "version": "3.9.12"
  },
  "widgets": {
   "application/vnd.jupyter.widget-state+json": {
    "03b4ce1797e74e93bb06c37754ac5e9d": {
     "model_module": "@jupyter-widgets/controls",
     "model_name": "HTMLModel",
     "state": {
      "_dom_classes": [],
      "_model_module": "@jupyter-widgets/controls",
      "_model_module_version": "1.5.0",
      "_model_name": "HTMLModel",
      "_view_count": null,
      "_view_module": "@jupyter-widgets/controls",
      "_view_module_version": "1.5.0",
      "_view_name": "HTMLView",
      "description": "",
      "description_tooltip": null,
      "layout": "IPY_MODEL_a707ea427621483894d88c65153ee9d1",
      "placeholder": "​",
      "style": "IPY_MODEL_33e3657c28dc46dca4b0de5108525b07",
      "value": " 204k/204k [00:01&lt;00:00, 115kB/s]"
     }
    },
    "0a9a43b759f84eba837a65fa6b8f5b1c": {
     "model_module": "@jupyter-widgets/controls",
     "model_name": "HTMLModel",
     "state": {
      "_dom_classes": [],
      "_model_module": "@jupyter-widgets/controls",
      "_model_module_version": "1.5.0",
      "_model_name": "HTMLModel",
      "_view_count": null,
      "_view_module": "@jupyter-widgets/controls",
      "_view_module_version": "1.5.0",
      "_view_name": "HTMLView",
      "description": "",
      "description_tooltip": null,
      "layout": "IPY_MODEL_2c612b75986d48f39e521e2702edd657",
      "placeholder": "​",
      "style": "IPY_MODEL_e24a7e6e565b438796b74a6d7a875b37",
      "value": " 16000/0 [00:00&lt;00:00, 35982.89 examples/s]"
     }
    },
    "0d9c55de07d24f8aa6b4f158de5b652c": {
     "model_module": "@jupyter-widgets/base",
     "model_name": "LayoutModel",
     "state": {
      "_model_module": "@jupyter-widgets/base",
      "_model_module_version": "1.2.0",
      "_model_name": "LayoutModel",
      "_view_count": null,
      "_view_module": "@jupyter-widgets/base",
      "_view_module_version": "1.2.0",
      "_view_name": "LayoutView",
      "align_content": null,
      "align_items": null,
      "align_self": null,
      "border": null,
      "bottom": null,
      "display": null,
      "flex": null,
      "flex_flow": null,
      "grid_area": null,
      "grid_auto_columns": null,
      "grid_auto_flow": null,
      "grid_auto_rows": null,
      "grid_column": null,
      "grid_gap": null,
      "grid_row": null,
      "grid_template_areas": null,
      "grid_template_columns": null,
      "grid_template_rows": null,
      "height": null,
      "justify_content": null,
      "justify_items": null,
      "left": null,
      "margin": null,
      "max_height": null,
      "max_width": null,
      "min_height": null,
      "min_width": null,
      "object_fit": null,
      "object_position": null,
      "order": null,
      "overflow": null,
      "overflow_x": null,
      "overflow_y": null,
      "padding": null,
      "right": null,
      "top": null,
      "visibility": null,
      "width": null
     }
    },
    "0ffe701d471d49859c63eba763bfb149": {
     "model_module": "@jupyter-widgets/base",
     "model_name": "LayoutModel",
     "state": {
      "_model_module": "@jupyter-widgets/base",
      "_model_module_version": "1.2.0",
      "_model_name": "LayoutModel",
      "_view_count": null,
      "_view_module": "@jupyter-widgets/base",
      "_view_module_version": "1.2.0",
      "_view_name": "LayoutView",
      "align_content": null,
      "align_items": null,
      "align_self": null,
      "border": null,
      "bottom": null,
      "display": null,
      "flex": null,
      "flex_flow": null,
      "grid_area": null,
      "grid_auto_columns": null,
      "grid_auto_flow": null,
      "grid_auto_rows": null,
      "grid_column": null,
      "grid_gap": null,
      "grid_row": null,
      "grid_template_areas": null,
      "grid_template_columns": null,
      "grid_template_rows": null,
      "height": null,
      "justify_content": null,
      "justify_items": null,
      "left": null,
      "margin": null,
      "max_height": null,
      "max_width": null,
      "min_height": null,
      "min_width": null,
      "object_fit": null,
      "object_position": null,
      "order": null,
      "overflow": null,
      "overflow_x": null,
      "overflow_y": null,
      "padding": null,
      "right": null,
      "top": null,
      "visibility": null,
      "width": null
     }
    },
    "14685c5bf31a46b2b8a25e8c54e8bf11": {
     "model_module": "@jupyter-widgets/controls",
     "model_name": "DescriptionStyleModel",
     "state": {
      "_model_module": "@jupyter-widgets/controls",
      "_model_module_version": "1.5.0",
      "_model_name": "DescriptionStyleModel",
      "_view_count": null,
      "_view_module": "@jupyter-widgets/base",
      "_view_module_version": "1.2.0",
      "_view_name": "StyleView",
      "description_width": ""
     }
    },
    "165b8853010d484496c30fffa0ef5829": {
     "model_module": "@jupyter-widgets/base",
     "model_name": "LayoutModel",
     "state": {
      "_model_module": "@jupyter-widgets/base",
      "_model_module_version": "1.2.0",
      "_model_name": "LayoutModel",
      "_view_count": null,
      "_view_module": "@jupyter-widgets/base",
      "_view_module_version": "1.2.0",
      "_view_name": "LayoutView",
      "align_content": null,
      "align_items": null,
      "align_self": null,
      "border": null,
      "bottom": null,
      "display": null,
      "flex": null,
      "flex_flow": null,
      "grid_area": null,
      "grid_auto_columns": null,
      "grid_auto_flow": null,
      "grid_auto_rows": null,
      "grid_column": null,
      "grid_gap": null,
      "grid_row": null,
      "grid_template_areas": null,
      "grid_template_columns": null,
      "grid_template_rows": null,
      "height": null,
      "justify_content": null,
      "justify_items": null,
      "left": null,
      "margin": null,
      "max_height": null,
      "max_width": null,
      "min_height": null,
      "min_width": null,
      "object_fit": null,
      "object_position": null,
      "order": null,
      "overflow": null,
      "overflow_x": null,
      "overflow_y": null,
      "padding": null,
      "right": null,
      "top": null,
      "visibility": null,
      "width": null
     }
    },
    "1a167cc1c7c5424390daeef688cb6fe8": {
     "model_module": "@jupyter-widgets/base",
     "model_name": "LayoutModel",
     "state": {
      "_model_module": "@jupyter-widgets/base",
      "_model_module_version": "1.2.0",
      "_model_name": "LayoutModel",
      "_view_count": null,
      "_view_module": "@jupyter-widgets/base",
      "_view_module_version": "1.2.0",
      "_view_name": "LayoutView",
      "align_content": null,
      "align_items": null,
      "align_self": null,
      "border": null,
      "bottom": null,
      "display": null,
      "flex": null,
      "flex_flow": null,
      "grid_area": null,
      "grid_auto_columns": null,
      "grid_auto_flow": null,
      "grid_auto_rows": null,
      "grid_column": null,
      "grid_gap": null,
      "grid_row": null,
      "grid_template_areas": null,
      "grid_template_columns": null,
      "grid_template_rows": null,
      "height": null,
      "justify_content": null,
      "justify_items": null,
      "left": null,
      "margin": null,
      "max_height": null,
      "max_width": null,
      "min_height": null,
      "min_width": null,
      "object_fit": null,
      "object_position": null,
      "order": null,
      "overflow": null,
      "overflow_x": null,
      "overflow_y": null,
      "padding": null,
      "right": null,
      "top": null,
      "visibility": null,
      "width": null
     }
    },
    "1a3ee52a06b04007adf3f6316146bb57": {
     "model_module": "@jupyter-widgets/controls",
     "model_name": "HBoxModel",
     "state": {
      "_dom_classes": [],
      "_model_module": "@jupyter-widgets/controls",
      "_model_module_version": "1.5.0",
      "_model_name": "HBoxModel",
      "_view_count": null,
      "_view_module": "@jupyter-widgets/controls",
      "_view_module_version": "1.5.0",
      "_view_name": "HBoxView",
      "box_style": "",
      "children": [
       "IPY_MODEL_e44979fabb774e2aa43fe9d69d61252c",
       "IPY_MODEL_0a9a43b759f84eba837a65fa6b8f5b1c"
      ],
      "layout": "IPY_MODEL_74b822dcf74d42e4980df136c2ae678c"
     }
    },
    "1f840d8e22cb410e940dd20a3aeb58c2": {
     "model_module": "@jupyter-widgets/base",
     "model_name": "LayoutModel",
     "state": {
      "_model_module": "@jupyter-widgets/base",
      "_model_module_version": "1.2.0",
      "_model_name": "LayoutModel",
      "_view_count": null,
      "_view_module": "@jupyter-widgets/base",
      "_view_module_version": "1.2.0",
      "_view_name": "LayoutView",
      "align_content": null,
      "align_items": null,
      "align_self": null,
      "border": null,
      "bottom": null,
      "display": null,
      "flex": null,
      "flex_flow": null,
      "grid_area": null,
      "grid_auto_columns": null,
      "grid_auto_flow": null,
      "grid_auto_rows": null,
      "grid_column": null,
      "grid_gap": null,
      "grid_row": null,
      "grid_template_areas": null,
      "grid_template_columns": null,
      "grid_template_rows": null,
      "height": null,
      "justify_content": null,
      "justify_items": null,
      "left": null,
      "margin": null,
      "max_height": null,
      "max_width": null,
      "min_height": null,
      "min_width": null,
      "object_fit": null,
      "object_position": null,
      "order": null,
      "overflow": null,
      "overflow_x": null,
      "overflow_y": null,
      "padding": null,
      "right": null,
      "top": null,
      "visibility": null,
      "width": null
     }
    },
    "22400b87b53c4330beb0312099dd2df0": {
     "model_module": "@jupyter-widgets/base",
     "model_name": "LayoutModel",
     "state": {
      "_model_module": "@jupyter-widgets/base",
      "_model_module_version": "1.2.0",
      "_model_name": "LayoutModel",
      "_view_count": null,
      "_view_module": "@jupyter-widgets/base",
      "_view_module_version": "1.2.0",
      "_view_name": "LayoutView",
      "align_content": null,
      "align_items": null,
      "align_self": null,
      "border": null,
      "bottom": null,
      "display": null,
      "flex": null,
      "flex_flow": null,
      "grid_area": null,
      "grid_auto_columns": null,
      "grid_auto_flow": null,
      "grid_auto_rows": null,
      "grid_column": null,
      "grid_gap": null,
      "grid_row": null,
      "grid_template_areas": null,
      "grid_template_columns": null,
      "grid_template_rows": null,
      "height": null,
      "justify_content": null,
      "justify_items": null,
      "left": null,
      "margin": null,
      "max_height": null,
      "max_width": null,
      "min_height": null,
      "min_width": null,
      "object_fit": null,
      "object_position": null,
      "order": null,
      "overflow": null,
      "overflow_x": null,
      "overflow_y": null,
      "padding": null,
      "right": null,
      "top": null,
      "visibility": null,
      "width": null
     }
    },
    "23c6b292360f40eaaa2f85d10492d490": {
     "model_module": "@jupyter-widgets/controls",
     "model_name": "HTMLModel",
     "state": {
      "_dom_classes": [],
      "_model_module": "@jupyter-widgets/controls",
      "_model_module_version": "1.5.0",
      "_model_name": "HTMLModel",
      "_view_count": null,
      "_view_module": "@jupyter-widgets/controls",
      "_view_module_version": "1.5.0",
      "_view_name": "HTMLView",
      "description": "",
      "description_tooltip": null,
      "layout": "IPY_MODEL_8f9c10a7b44d412f94c40b3bcd3d4ce4",
      "placeholder": "​",
      "style": "IPY_MODEL_7708a49b8e88497c9232ab49d411219a",
      "value": " 2000/0 [00:00&lt;00:00, 25418.41 examples/s]"
     }
    },
    "293bae3ebb4c441a8754e0079207525e": {
     "model_module": "@jupyter-widgets/controls",
     "model_name": "FloatProgressModel",
     "state": {
      "_dom_classes": [],
      "_model_module": "@jupyter-widgets/controls",
      "_model_module_version": "1.5.0",
      "_model_name": "FloatProgressModel",
      "_view_count": null,
      "_view_module": "@jupyter-widgets/controls",
      "_view_module_version": "1.5.0",
      "_view_name": "ProgressView",
      "bar_style": "success",
      "description": "Downloading: 100%",
      "description_tooltip": null,
      "layout": "IPY_MODEL_e0e489347bf84eaa9e6736345796531e",
      "max": 3406,
      "min": 0,
      "orientation": "horizontal",
      "style": "IPY_MODEL_ad1a1a98277140159597ef58d8c6a7cf",
      "value": 3406
     }
    },
    "2c612b75986d48f39e521e2702edd657": {
     "model_module": "@jupyter-widgets/base",
     "model_name": "LayoutModel",
     "state": {
      "_model_module": "@jupyter-widgets/base",
      "_model_module_version": "1.2.0",
      "_model_name": "LayoutModel",
      "_view_count": null,
      "_view_module": "@jupyter-widgets/base",
      "_view_module_version": "1.2.0",
      "_view_name": "LayoutView",
      "align_content": null,
      "align_items": null,
      "align_self": null,
      "border": null,
      "bottom": null,
      "display": null,
      "flex": null,
      "flex_flow": null,
      "grid_area": null,
      "grid_auto_columns": null,
      "grid_auto_flow": null,
      "grid_auto_rows": null,
      "grid_column": null,
      "grid_gap": null,
      "grid_row": null,
      "grid_template_areas": null,
      "grid_template_columns": null,
      "grid_template_rows": null,
      "height": null,
      "justify_content": null,
      "justify_items": null,
      "left": null,
      "margin": null,
      "max_height": null,
      "max_width": null,
      "min_height": null,
      "min_width": null,
      "object_fit": null,
      "object_position": null,
      "order": null,
      "overflow": null,
      "overflow_x": null,
      "overflow_y": null,
      "padding": null,
      "right": null,
      "top": null,
      "visibility": null,
      "width": null
     }
    },
    "30dd749c33a64eef957e3a3707a452d3": {
     "model_module": "@jupyter-widgets/controls",
     "model_name": "HBoxModel",
     "state": {
      "_dom_classes": [],
      "_model_module": "@jupyter-widgets/controls",
      "_model_module_version": "1.5.0",
      "_model_name": "HBoxModel",
      "_view_count": null,
      "_view_module": "@jupyter-widgets/controls",
      "_view_module_version": "1.5.0",
      "_view_name": "HBoxView",
      "box_style": "",
      "children": [
       "IPY_MODEL_a7eecfb1ec74405db3ece070f0e90c75",
       "IPY_MODEL_ff88935971644df1a1a8e8b19dfb0b40"
      ],
      "layout": "IPY_MODEL_22400b87b53c4330beb0312099dd2df0"
     }
    },
    "33e3657c28dc46dca4b0de5108525b07": {
     "model_module": "@jupyter-widgets/controls",
     "model_name": "DescriptionStyleModel",
     "state": {
      "_model_module": "@jupyter-widgets/controls",
      "_model_module_version": "1.5.0",
      "_model_name": "DescriptionStyleModel",
      "_view_count": null,
      "_view_module": "@jupyter-widgets/base",
      "_view_module_version": "1.2.0",
      "_view_name": "StyleView",
      "description_width": ""
     }
    },
    "34ce67545af640338c2e45faf2650280": {
     "model_module": "@jupyter-widgets/controls",
     "model_name": "HBoxModel",
     "state": {
      "_dom_classes": [],
      "_model_module": "@jupyter-widgets/controls",
      "_model_module_version": "1.5.0",
      "_model_name": "HBoxModel",
      "_view_count": null,
      "_view_module": "@jupyter-widgets/controls",
      "_view_module_version": "1.5.0",
      "_view_name": "HBoxView",
      "box_style": "",
      "children": [
       "IPY_MODEL_293bae3ebb4c441a8754e0079207525e",
       "IPY_MODEL_691f56bfe2a9416fbdc502299980a72c"
      ],
      "layout": "IPY_MODEL_a875b7badee144fb813b327c606f545d"
     }
    },
    "3c3a644f36544640ab2255db0ec1f55c": {
     "model_module": "@jupyter-widgets/controls",
     "model_name": "DescriptionStyleModel",
     "state": {
      "_model_module": "@jupyter-widgets/controls",
      "_model_module_version": "1.5.0",
      "_model_name": "DescriptionStyleModel",
      "_view_count": null,
      "_view_module": "@jupyter-widgets/base",
      "_view_module_version": "1.2.0",
      "_view_name": "StyleView",
      "description_width": ""
     }
    },
    "3e84f0639d724728b12119f061fad032": {
     "model_module": "@jupyter-widgets/controls",
     "model_name": "DescriptionStyleModel",
     "state": {
      "_model_module": "@jupyter-widgets/controls",
      "_model_module_version": "1.5.0",
      "_model_name": "DescriptionStyleModel",
      "_view_count": null,
      "_view_module": "@jupyter-widgets/base",
      "_view_module_version": "1.2.0",
      "_view_name": "StyleView",
      "description_width": ""
     }
    },
    "40ebf6be0eae475f80a4e95a42cb4daa": {
     "model_module": "@jupyter-widgets/controls",
     "model_name": "DescriptionStyleModel",
     "state": {
      "_model_module": "@jupyter-widgets/controls",
      "_model_module_version": "1.5.0",
      "_model_name": "DescriptionStyleModel",
      "_view_count": null,
      "_view_module": "@jupyter-widgets/base",
      "_view_module_version": "1.2.0",
      "_view_name": "StyleView",
      "description_width": ""
     }
    },
    "44457c66b4b646588d4a410b16638348": {
     "model_module": "@jupyter-widgets/base",
     "model_name": "LayoutModel",
     "state": {
      "_model_module": "@jupyter-widgets/base",
      "_model_module_version": "1.2.0",
      "_model_name": "LayoutModel",
      "_view_count": null,
      "_view_module": "@jupyter-widgets/base",
      "_view_module_version": "1.2.0",
      "_view_name": "LayoutView",
      "align_content": null,
      "align_items": null,
      "align_self": null,
      "border": null,
      "bottom": null,
      "display": null,
      "flex": null,
      "flex_flow": null,
      "grid_area": null,
      "grid_auto_columns": null,
      "grid_auto_flow": null,
      "grid_auto_rows": null,
      "grid_column": null,
      "grid_gap": null,
      "grid_row": null,
      "grid_template_areas": null,
      "grid_template_columns": null,
      "grid_template_rows": null,
      "height": null,
      "justify_content": null,
      "justify_items": null,
      "left": null,
      "margin": null,
      "max_height": null,
      "max_width": null,
      "min_height": null,
      "min_width": null,
      "object_fit": null,
      "object_position": null,
      "order": null,
      "overflow": null,
      "overflow_x": null,
      "overflow_y": null,
      "padding": null,
      "right": null,
      "top": null,
      "visibility": null,
      "width": null
     }
    },
    "5fc1df04d18948c0b87be10379ea51f3": {
     "model_module": "@jupyter-widgets/base",
     "model_name": "LayoutModel",
     "state": {
      "_model_module": "@jupyter-widgets/base",
      "_model_module_version": "1.2.0",
      "_model_name": "LayoutModel",
      "_view_count": null,
      "_view_module": "@jupyter-widgets/base",
      "_view_module_version": "1.2.0",
      "_view_name": "LayoutView",
      "align_content": null,
      "align_items": null,
      "align_self": null,
      "border": null,
      "bottom": null,
      "display": null,
      "flex": null,
      "flex_flow": null,
      "grid_area": null,
      "grid_auto_columns": null,
      "grid_auto_flow": null,
      "grid_auto_rows": null,
      "grid_column": null,
      "grid_gap": null,
      "grid_row": null,
      "grid_template_areas": null,
      "grid_template_columns": null,
      "grid_template_rows": null,
      "height": null,
      "justify_content": null,
      "justify_items": null,
      "left": null,
      "margin": null,
      "max_height": null,
      "max_width": null,
      "min_height": null,
      "min_width": null,
      "object_fit": null,
      "object_position": null,
      "order": null,
      "overflow": null,
      "overflow_x": null,
      "overflow_y": null,
      "padding": null,
      "right": null,
      "top": null,
      "visibility": null,
      "width": null
     }
    },
    "605b35fa125b42058498f468d19673b5": {
     "model_module": "@jupyter-widgets/base",
     "model_name": "LayoutModel",
     "state": {
      "_model_module": "@jupyter-widgets/base",
      "_model_module_version": "1.2.0",
      "_model_name": "LayoutModel",
      "_view_count": null,
      "_view_module": "@jupyter-widgets/base",
      "_view_module_version": "1.2.0",
      "_view_name": "LayoutView",
      "align_content": null,
      "align_items": null,
      "align_self": null,
      "border": null,
      "bottom": null,
      "display": null,
      "flex": null,
      "flex_flow": null,
      "grid_area": null,
      "grid_auto_columns": null,
      "grid_auto_flow": null,
      "grid_auto_rows": null,
      "grid_column": null,
      "grid_gap": null,
      "grid_row": null,
      "grid_template_areas": null,
      "grid_template_columns": null,
      "grid_template_rows": null,
      "height": null,
      "justify_content": null,
      "justify_items": null,
      "left": null,
      "margin": null,
      "max_height": null,
      "max_width": null,
      "min_height": null,
      "min_width": null,
      "object_fit": null,
      "object_position": null,
      "order": null,
      "overflow": null,
      "overflow_x": null,
      "overflow_y": null,
      "padding": null,
      "right": null,
      "top": null,
      "visibility": null,
      "width": null
     }
    },
    "63459b39dc2b4cbca3f1fdaeb992a6ab": {
     "model_module": "@jupyter-widgets/controls",
     "model_name": "FloatProgressModel",
     "state": {
      "_dom_classes": [],
      "_model_module": "@jupyter-widgets/controls",
      "_model_module_version": "1.5.0",
      "_model_name": "FloatProgressModel",
      "_view_count": null,
      "_view_module": "@jupyter-widgets/controls",
      "_view_module_version": "1.5.0",
      "_view_name": "ProgressView",
      "bar_style": "info",
      "description": "",
      "description_tooltip": null,
      "layout": "IPY_MODEL_9581dcfcdbf843abae1894341db61fe8",
      "max": 1,
      "min": 0,
      "orientation": "horizontal",
      "style": "IPY_MODEL_700993c236754b2788db60f61c0a62c9",
      "value": 1
     }
    },
    "643a82a9cd1647c7bec72b193f962918": {
     "model_module": "@jupyter-widgets/controls",
     "model_name": "HBoxModel",
     "state": {
      "_dom_classes": [],
      "_model_module": "@jupyter-widgets/controls",
      "_model_module_version": "1.5.0",
      "_model_name": "HBoxModel",
      "_view_count": null,
      "_view_module": "@jupyter-widgets/controls",
      "_view_module_version": "1.5.0",
      "_view_name": "HBoxView",
      "box_style": "",
      "children": [
       "IPY_MODEL_d0dfb8e00d484e5cb1665a800fa2ac3a",
       "IPY_MODEL_03b4ce1797e74e93bb06c37754ac5e9d"
      ],
      "layout": "IPY_MODEL_752a64be75fa4dbabe89195495b1fec3"
     }
    },
    "674a43ccdfaa450da2cb7c0f9211a015": {
     "model_module": "@jupyter-widgets/controls",
     "model_name": "ProgressStyleModel",
     "state": {
      "_model_module": "@jupyter-widgets/controls",
      "_model_module_version": "1.5.0",
      "_model_name": "ProgressStyleModel",
      "_view_count": null,
      "_view_module": "@jupyter-widgets/base",
      "_view_module_version": "1.2.0",
      "_view_name": "StyleView",
      "bar_color": null,
      "description_width": "initial"
     }
    },
    "691f56bfe2a9416fbdc502299980a72c": {
     "model_module": "@jupyter-widgets/controls",
     "model_name": "HTMLModel",
     "state": {
      "_dom_classes": [],
      "_model_module": "@jupyter-widgets/controls",
      "_model_module_version": "1.5.0",
      "_model_name": "HTMLModel",
      "_view_count": null,
      "_view_module": "@jupyter-widgets/controls",
      "_view_module_version": "1.5.0",
      "_view_name": "HTMLView",
      "description": "",
      "description_tooltip": null,
      "layout": "IPY_MODEL_9c730a7e068e457ca022b4a894a09a50",
      "placeholder": "​",
      "style": "IPY_MODEL_40ebf6be0eae475f80a4e95a42cb4daa",
      "value": " 3.41k/3.41k [00:00&lt;00:00, 3.69kB/s]"
     }
    },
    "6ca20d607e4446bba3569fbc59ebc9e5": {
     "model_module": "@jupyter-widgets/base",
     "model_name": "LayoutModel",
     "state": {
      "_model_module": "@jupyter-widgets/base",
      "_model_module_version": "1.2.0",
      "_model_name": "LayoutModel",
      "_view_count": null,
      "_view_module": "@jupyter-widgets/base",
      "_view_module_version": "1.2.0",
      "_view_name": "LayoutView",
      "align_content": null,
      "align_items": null,
      "align_self": null,
      "border": null,
      "bottom": null,
      "display": null,
      "flex": null,
      "flex_flow": null,
      "grid_area": null,
      "grid_auto_columns": null,
      "grid_auto_flow": null,
      "grid_auto_rows": null,
      "grid_column": null,
      "grid_gap": null,
      "grid_row": null,
      "grid_template_areas": null,
      "grid_template_columns": null,
      "grid_template_rows": null,
      "height": null,
      "justify_content": null,
      "justify_items": null,
      "left": null,
      "margin": null,
      "max_height": null,
      "max_width": null,
      "min_height": null,
      "min_width": null,
      "object_fit": null,
      "object_position": null,
      "order": null,
      "overflow": null,
      "overflow_x": null,
      "overflow_y": null,
      "padding": null,
      "right": null,
      "top": null,
      "visibility": null,
      "width": null
     }
    },
    "6fe32259eab64bc390880756b92604eb": {
     "model_module": "@jupyter-widgets/controls",
     "model_name": "ProgressStyleModel",
     "state": {
      "_model_module": "@jupyter-widgets/controls",
      "_model_module_version": "1.5.0",
      "_model_name": "ProgressStyleModel",
      "_view_count": null,
      "_view_module": "@jupyter-widgets/base",
      "_view_module_version": "1.2.0",
      "_view_name": "StyleView",
      "bar_color": null,
      "description_width": "initial"
     }
    },
    "700993c236754b2788db60f61c0a62c9": {
     "model_module": "@jupyter-widgets/controls",
     "model_name": "ProgressStyleModel",
     "state": {
      "_model_module": "@jupyter-widgets/controls",
      "_model_module_version": "1.5.0",
      "_model_name": "ProgressStyleModel",
      "_view_count": null,
      "_view_module": "@jupyter-widgets/base",
      "_view_module_version": "1.2.0",
      "_view_name": "StyleView",
      "bar_color": null,
      "description_width": "initial"
     }
    },
    "709d672eca9f482296cf374e7b76845c": {
     "model_module": "@jupyter-widgets/controls",
     "model_name": "HTMLModel",
     "state": {
      "_dom_classes": [],
      "_model_module": "@jupyter-widgets/controls",
      "_model_module_version": "1.5.0",
      "_model_name": "HTMLModel",
      "_view_count": null,
      "_view_module": "@jupyter-widgets/controls",
      "_view_module_version": "1.5.0",
      "_view_name": "HTMLView",
      "description": "",
      "description_tooltip": null,
      "layout": "IPY_MODEL_fc3865ada9874c0c943ac6a1cc27440a",
      "placeholder": "​",
      "style": "IPY_MODEL_14685c5bf31a46b2b8a25e8c54e8bf11",
      "value": " 1.66M/1.66M [00:01&lt;00:00, 1.55MB/s]"
     }
    },
    "74b822dcf74d42e4980df136c2ae678c": {
     "model_module": "@jupyter-widgets/base",
     "model_name": "LayoutModel",
     "state": {
      "_model_module": "@jupyter-widgets/base",
      "_model_module_version": "1.2.0",
      "_model_name": "LayoutModel",
      "_view_count": null,
      "_view_module": "@jupyter-widgets/base",
      "_view_module_version": "1.2.0",
      "_view_name": "LayoutView",
      "align_content": null,
      "align_items": null,
      "align_self": null,
      "border": null,
      "bottom": null,
      "display": null,
      "flex": null,
      "flex_flow": null,
      "grid_area": null,
      "grid_auto_columns": null,
      "grid_auto_flow": null,
      "grid_auto_rows": null,
      "grid_column": null,
      "grid_gap": null,
      "grid_row": null,
      "grid_template_areas": null,
      "grid_template_columns": null,
      "grid_template_rows": null,
      "height": null,
      "justify_content": null,
      "justify_items": null,
      "left": null,
      "margin": null,
      "max_height": null,
      "max_width": null,
      "min_height": null,
      "min_width": null,
      "object_fit": null,
      "object_position": null,
      "order": null,
      "overflow": null,
      "overflow_x": null,
      "overflow_y": null,
      "padding": null,
      "right": null,
      "top": null,
      "visibility": null,
      "width": null
     }
    },
    "752a64be75fa4dbabe89195495b1fec3": {
     "model_module": "@jupyter-widgets/base",
     "model_name": "LayoutModel",
     "state": {
      "_model_module": "@jupyter-widgets/base",
      "_model_module_version": "1.2.0",
      "_model_name": "LayoutModel",
      "_view_count": null,
      "_view_module": "@jupyter-widgets/base",
      "_view_module_version": "1.2.0",
      "_view_name": "LayoutView",
      "align_content": null,
      "align_items": null,
      "align_self": null,
      "border": null,
      "bottom": null,
      "display": null,
      "flex": null,
      "flex_flow": null,
      "grid_area": null,
      "grid_auto_columns": null,
      "grid_auto_flow": null,
      "grid_auto_rows": null,
      "grid_column": null,
      "grid_gap": null,
      "grid_row": null,
      "grid_template_areas": null,
      "grid_template_columns": null,
      "grid_template_rows": null,
      "height": null,
      "justify_content": null,
      "justify_items": null,
      "left": null,
      "margin": null,
      "max_height": null,
      "max_width": null,
      "min_height": null,
      "min_width": null,
      "object_fit": null,
      "object_position": null,
      "order": null,
      "overflow": null,
      "overflow_x": null,
      "overflow_y": null,
      "padding": null,
      "right": null,
      "top": null,
      "visibility": null,
      "width": null
     }
    },
    "75776a5d595f42efa4c2fb8b28627bfb": {
     "model_module": "@jupyter-widgets/base",
     "model_name": "LayoutModel",
     "state": {
      "_model_module": "@jupyter-widgets/base",
      "_model_module_version": "1.2.0",
      "_model_name": "LayoutModel",
      "_view_count": null,
      "_view_module": "@jupyter-widgets/base",
      "_view_module_version": "1.2.0",
      "_view_name": "LayoutView",
      "align_content": null,
      "align_items": null,
      "align_self": null,
      "border": null,
      "bottom": null,
      "display": null,
      "flex": null,
      "flex_flow": null,
      "grid_area": null,
      "grid_auto_columns": null,
      "grid_auto_flow": null,
      "grid_auto_rows": null,
      "grid_column": null,
      "grid_gap": null,
      "grid_row": null,
      "grid_template_areas": null,
      "grid_template_columns": null,
      "grid_template_rows": null,
      "height": null,
      "justify_content": null,
      "justify_items": null,
      "left": null,
      "margin": null,
      "max_height": null,
      "max_width": null,
      "min_height": null,
      "min_width": null,
      "object_fit": null,
      "object_position": null,
      "order": null,
      "overflow": null,
      "overflow_x": null,
      "overflow_y": null,
      "padding": null,
      "right": null,
      "top": null,
      "visibility": null,
      "width": null
     }
    },
    "7708a49b8e88497c9232ab49d411219a": {
     "model_module": "@jupyter-widgets/controls",
     "model_name": "DescriptionStyleModel",
     "state": {
      "_model_module": "@jupyter-widgets/controls",
      "_model_module_version": "1.5.0",
      "_model_name": "DescriptionStyleModel",
      "_view_count": null,
      "_view_module": "@jupyter-widgets/base",
      "_view_module_version": "1.2.0",
      "_view_name": "StyleView",
      "description_width": ""
     }
    },
    "77fffd82779143d09bedc6bce25aada4": {
     "model_module": "@jupyter-widgets/base",
     "model_name": "LayoutModel",
     "state": {
      "_model_module": "@jupyter-widgets/base",
      "_model_module_version": "1.2.0",
      "_model_name": "LayoutModel",
      "_view_count": null,
      "_view_module": "@jupyter-widgets/base",
      "_view_module_version": "1.2.0",
      "_view_name": "LayoutView",
      "align_content": null,
      "align_items": null,
      "align_self": null,
      "border": null,
      "bottom": null,
      "display": null,
      "flex": null,
      "flex_flow": null,
      "grid_area": null,
      "grid_auto_columns": null,
      "grid_auto_flow": null,
      "grid_auto_rows": null,
      "grid_column": null,
      "grid_gap": null,
      "grid_row": null,
      "grid_template_areas": null,
      "grid_template_columns": null,
      "grid_template_rows": null,
      "height": null,
      "justify_content": null,
      "justify_items": null,
      "left": null,
      "margin": null,
      "max_height": null,
      "max_width": null,
      "min_height": null,
      "min_width": null,
      "object_fit": null,
      "object_position": null,
      "order": null,
      "overflow": null,
      "overflow_x": null,
      "overflow_y": null,
      "padding": null,
      "right": null,
      "top": null,
      "visibility": null,
      "width": null
     }
    },
    "7d0a7e1f138d46429b9a26dfd051acb2": {
     "model_module": "@jupyter-widgets/controls",
     "model_name": "FloatProgressModel",
     "state": {
      "_dom_classes": [],
      "_model_module": "@jupyter-widgets/controls",
      "_model_module_version": "1.5.0",
      "_model_name": "FloatProgressModel",
      "_view_count": null,
      "_view_module": "@jupyter-widgets/controls",
      "_view_module_version": "1.5.0",
      "_view_name": "ProgressView",
      "bar_style": "info",
      "description": "",
      "description_tooltip": null,
      "layout": "IPY_MODEL_1f840d8e22cb410e940dd20a3aeb58c2",
      "max": 1,
      "min": 0,
      "orientation": "horizontal",
      "style": "IPY_MODEL_a3113489080148c4893dfd20870b211e",
      "value": 1
     }
    },
    "8f9c10a7b44d412f94c40b3bcd3d4ce4": {
     "model_module": "@jupyter-widgets/base",
     "model_name": "LayoutModel",
     "state": {
      "_model_module": "@jupyter-widgets/base",
      "_model_module_version": "1.2.0",
      "_model_name": "LayoutModel",
      "_view_count": null,
      "_view_module": "@jupyter-widgets/base",
      "_view_module_version": "1.2.0",
      "_view_name": "LayoutView",
      "align_content": null,
      "align_items": null,
      "align_self": null,
      "border": null,
      "bottom": null,
      "display": null,
      "flex": null,
      "flex_flow": null,
      "grid_area": null,
      "grid_auto_columns": null,
      "grid_auto_flow": null,
      "grid_auto_rows": null,
      "grid_column": null,
      "grid_gap": null,
      "grid_row": null,
      "grid_template_areas": null,
      "grid_template_columns": null,
      "grid_template_rows": null,
      "height": null,
      "justify_content": null,
      "justify_items": null,
      "left": null,
      "margin": null,
      "max_height": null,
      "max_width": null,
      "min_height": null,
      "min_width": null,
      "object_fit": null,
      "object_position": null,
      "order": null,
      "overflow": null,
      "overflow_x": null,
      "overflow_y": null,
      "padding": null,
      "right": null,
      "top": null,
      "visibility": null,
      "width": null
     }
    },
    "93a8c8d32807489897f3de3b346bd75e": {
     "model_module": "@jupyter-widgets/controls",
     "model_name": "ProgressStyleModel",
     "state": {
      "_model_module": "@jupyter-widgets/controls",
      "_model_module_version": "1.5.0",
      "_model_name": "ProgressStyleModel",
      "_view_count": null,
      "_view_module": "@jupyter-widgets/base",
      "_view_module_version": "1.2.0",
      "_view_name": "StyleView",
      "bar_color": null,
      "description_width": "initial"
     }
    },
    "9581dcfcdbf843abae1894341db61fe8": {
     "model_module": "@jupyter-widgets/base",
     "model_name": "LayoutModel",
     "state": {
      "_model_module": "@jupyter-widgets/base",
      "_model_module_version": "1.2.0",
      "_model_name": "LayoutModel",
      "_view_count": null,
      "_view_module": "@jupyter-widgets/base",
      "_view_module_version": "1.2.0",
      "_view_name": "LayoutView",
      "align_content": null,
      "align_items": null,
      "align_self": null,
      "border": null,
      "bottom": null,
      "display": null,
      "flex": null,
      "flex_flow": null,
      "grid_area": null,
      "grid_auto_columns": null,
      "grid_auto_flow": null,
      "grid_auto_rows": null,
      "grid_column": null,
      "grid_gap": null,
      "grid_row": null,
      "grid_template_areas": null,
      "grid_template_columns": null,
      "grid_template_rows": null,
      "height": null,
      "justify_content": null,
      "justify_items": null,
      "left": null,
      "margin": null,
      "max_height": null,
      "max_width": null,
      "min_height": null,
      "min_width": null,
      "object_fit": null,
      "object_position": null,
      "order": null,
      "overflow": null,
      "overflow_x": null,
      "overflow_y": null,
      "padding": null,
      "right": null,
      "top": null,
      "visibility": null,
      "width": null
     }
    },
    "9c730a7e068e457ca022b4a894a09a50": {
     "model_module": "@jupyter-widgets/base",
     "model_name": "LayoutModel",
     "state": {
      "_model_module": "@jupyter-widgets/base",
      "_model_module_version": "1.2.0",
      "_model_name": "LayoutModel",
      "_view_count": null,
      "_view_module": "@jupyter-widgets/base",
      "_view_module_version": "1.2.0",
      "_view_name": "LayoutView",
      "align_content": null,
      "align_items": null,
      "align_self": null,
      "border": null,
      "bottom": null,
      "display": null,
      "flex": null,
      "flex_flow": null,
      "grid_area": null,
      "grid_auto_columns": null,
      "grid_auto_flow": null,
      "grid_auto_rows": null,
      "grid_column": null,
      "grid_gap": null,
      "grid_row": null,
      "grid_template_areas": null,
      "grid_template_columns": null,
      "grid_template_rows": null,
      "height": null,
      "justify_content": null,
      "justify_items": null,
      "left": null,
      "margin": null,
      "max_height": null,
      "max_width": null,
      "min_height": null,
      "min_width": null,
      "object_fit": null,
      "object_position": null,
      "order": null,
      "overflow": null,
      "overflow_x": null,
      "overflow_y": null,
      "padding": null,
      "right": null,
      "top": null,
      "visibility": null,
      "width": null
     }
    },
    "a235387c398e4d1cab2357f77ccfecaa": {
     "model_module": "@jupyter-widgets/base",
     "model_name": "LayoutModel",
     "state": {
      "_model_module": "@jupyter-widgets/base",
      "_model_module_version": "1.2.0",
      "_model_name": "LayoutModel",
      "_view_count": null,
      "_view_module": "@jupyter-widgets/base",
      "_view_module_version": "1.2.0",
      "_view_name": "LayoutView",
      "align_content": null,
      "align_items": null,
      "align_self": null,
      "border": null,
      "bottom": null,
      "display": null,
      "flex": null,
      "flex_flow": null,
      "grid_area": null,
      "grid_auto_columns": null,
      "grid_auto_flow": null,
      "grid_auto_rows": null,
      "grid_column": null,
      "grid_gap": null,
      "grid_row": null,
      "grid_template_areas": null,
      "grid_template_columns": null,
      "grid_template_rows": null,
      "height": null,
      "justify_content": null,
      "justify_items": null,
      "left": null,
      "margin": null,
      "max_height": null,
      "max_width": null,
      "min_height": null,
      "min_width": null,
      "object_fit": null,
      "object_position": null,
      "order": null,
      "overflow": null,
      "overflow_x": null,
      "overflow_y": null,
      "padding": null,
      "right": null,
      "top": null,
      "visibility": null,
      "width": null
     }
    },
    "a3113489080148c4893dfd20870b211e": {
     "model_module": "@jupyter-widgets/controls",
     "model_name": "ProgressStyleModel",
     "state": {
      "_model_module": "@jupyter-widgets/controls",
      "_model_module_version": "1.5.0",
      "_model_name": "ProgressStyleModel",
      "_view_count": null,
      "_view_module": "@jupyter-widgets/base",
      "_view_module_version": "1.2.0",
      "_view_name": "StyleView",
      "bar_color": null,
      "description_width": "initial"
     }
    },
    "a707ea427621483894d88c65153ee9d1": {
     "model_module": "@jupyter-widgets/base",
     "model_name": "LayoutModel",
     "state": {
      "_model_module": "@jupyter-widgets/base",
      "_model_module_version": "1.2.0",
      "_model_name": "LayoutModel",
      "_view_count": null,
      "_view_module": "@jupyter-widgets/base",
      "_view_module_version": "1.2.0",
      "_view_name": "LayoutView",
      "align_content": null,
      "align_items": null,
      "align_self": null,
      "border": null,
      "bottom": null,
      "display": null,
      "flex": null,
      "flex_flow": null,
      "grid_area": null,
      "grid_auto_columns": null,
      "grid_auto_flow": null,
      "grid_auto_rows": null,
      "grid_column": null,
      "grid_gap": null,
      "grid_row": null,
      "grid_template_areas": null,
      "grid_template_columns": null,
      "grid_template_rows": null,
      "height": null,
      "justify_content": null,
      "justify_items": null,
      "left": null,
      "margin": null,
      "max_height": null,
      "max_width": null,
      "min_height": null,
      "min_width": null,
      "object_fit": null,
      "object_position": null,
      "order": null,
      "overflow": null,
      "overflow_x": null,
      "overflow_y": null,
      "padding": null,
      "right": null,
      "top": null,
      "visibility": null,
      "width": null
     }
    },
    "a7eecfb1ec74405db3ece070f0e90c75": {
     "model_module": "@jupyter-widgets/controls",
     "model_name": "FloatProgressModel",
     "state": {
      "_dom_classes": [],
      "_model_module": "@jupyter-widgets/controls",
      "_model_module_version": "1.5.0",
      "_model_name": "FloatProgressModel",
      "_view_count": null,
      "_view_module": "@jupyter-widgets/controls",
      "_view_module_version": "1.5.0",
      "_view_name": "ProgressView",
      "bar_style": "success",
      "description": "Downloading: 100%",
      "description_tooltip": null,
      "layout": "IPY_MODEL_44457c66b4b646588d4a410b16638348",
      "max": 6011,
      "min": 0,
      "orientation": "horizontal",
      "style": "IPY_MODEL_6fe32259eab64bc390880756b92604eb",
      "value": 6011
     }
    },
    "a842d628f1c14d38b5eb97ceb1d3ee6d": {
     "model_module": "@jupyter-widgets/controls",
     "model_name": "HTMLModel",
     "state": {
      "_dom_classes": [],
      "_model_module": "@jupyter-widgets/controls",
      "_model_module_version": "1.5.0",
      "_model_name": "HTMLModel",
      "_view_count": null,
      "_view_module": "@jupyter-widgets/controls",
      "_view_module_version": "1.5.0",
      "_view_name": "HTMLView",
      "description": "",
      "description_tooltip": null,
      "layout": "IPY_MODEL_0ffe701d471d49859c63eba763bfb149",
      "placeholder": "​",
      "style": "IPY_MODEL_c0577dede98243109131765307992f9d",
      "value": " 207k/207k [00:00&lt;00:00, 2.75MB/s]"
     }
    },
    "a875b7badee144fb813b327c606f545d": {
     "model_module": "@jupyter-widgets/base",
     "model_name": "LayoutModel",
     "state": {
      "_model_module": "@jupyter-widgets/base",
      "_model_module_version": "1.2.0",
      "_model_name": "LayoutModel",
      "_view_count": null,
      "_view_module": "@jupyter-widgets/base",
      "_view_module_version": "1.2.0",
      "_view_name": "LayoutView",
      "align_content": null,
      "align_items": null,
      "align_self": null,
      "border": null,
      "bottom": null,
      "display": null,
      "flex": null,
      "flex_flow": null,
      "grid_area": null,
      "grid_auto_columns": null,
      "grid_auto_flow": null,
      "grid_auto_rows": null,
      "grid_column": null,
      "grid_gap": null,
      "grid_row": null,
      "grid_template_areas": null,
      "grid_template_columns": null,
      "grid_template_rows": null,
      "height": null,
      "justify_content": null,
      "justify_items": null,
      "left": null,
      "margin": null,
      "max_height": null,
      "max_width": null,
      "min_height": null,
      "min_width": null,
      "object_fit": null,
      "object_position": null,
      "order": null,
      "overflow": null,
      "overflow_x": null,
      "overflow_y": null,
      "padding": null,
      "right": null,
      "top": null,
      "visibility": null,
      "width": null
     }
    },
    "a92791e4afcf4c03af792bc0fb2b120e": {
     "model_module": "@jupyter-widgets/controls",
     "model_name": "HTMLModel",
     "state": {
      "_dom_classes": [],
      "_model_module": "@jupyter-widgets/controls",
      "_model_module_version": "1.5.0",
      "_model_name": "HTMLModel",
      "_view_count": null,
      "_view_module": "@jupyter-widgets/controls",
      "_view_module_version": "1.5.0",
      "_view_name": "HTMLView",
      "description": "",
      "description_tooltip": null,
      "layout": "IPY_MODEL_77fffd82779143d09bedc6bce25aada4",
      "placeholder": "​",
      "style": "IPY_MODEL_3c3a644f36544640ab2255db0ec1f55c",
      "value": " 2000/0 [00:00&lt;00:00, 29222.08 examples/s]"
     }
    },
    "ad1a1a98277140159597ef58d8c6a7cf": {
     "model_module": "@jupyter-widgets/controls",
     "model_name": "ProgressStyleModel",
     "state": {
      "_model_module": "@jupyter-widgets/controls",
      "_model_module_version": "1.5.0",
      "_model_name": "ProgressStyleModel",
      "_view_count": null,
      "_view_module": "@jupyter-widgets/base",
      "_view_module_version": "1.2.0",
      "_view_name": "StyleView",
      "bar_color": null,
      "description_width": "initial"
     }
    },
    "afa2cdbc58b84ad6a47b1227320a3ab4": {
     "model_module": "@jupyter-widgets/controls",
     "model_name": "FloatProgressModel",
     "state": {
      "_dom_classes": [],
      "_model_module": "@jupyter-widgets/controls",
      "_model_module_version": "1.5.0",
      "_model_name": "FloatProgressModel",
      "_view_count": null,
      "_view_module": "@jupyter-widgets/controls",
      "_view_module_version": "1.5.0",
      "_view_name": "ProgressView",
      "bar_style": "success",
      "description": "Downloading: 100%",
      "description_tooltip": null,
      "layout": "IPY_MODEL_1a167cc1c7c5424390daeef688cb6fe8",
      "max": 206760,
      "min": 0,
      "orientation": "horizontal",
      "style": "IPY_MODEL_93a8c8d32807489897f3de3b346bd75e",
      "value": 206760
     }
    },
    "b53f977d035247008b5c64f99bbc3bd8": {
     "model_module": "@jupyter-widgets/controls",
     "model_name": "FloatProgressModel",
     "state": {
      "_dom_classes": [],
      "_model_module": "@jupyter-widgets/controls",
      "_model_module_version": "1.5.0",
      "_model_name": "FloatProgressModel",
      "_view_count": null,
      "_view_module": "@jupyter-widgets/controls",
      "_view_module_version": "1.5.0",
      "_view_name": "ProgressView",
      "bar_style": "success",
      "description": "Downloading: 100%",
      "description_tooltip": null,
      "layout": "IPY_MODEL_6ca20d607e4446bba3569fbc59ebc9e5",
      "max": 1658616,
      "min": 0,
      "orientation": "horizontal",
      "style": "IPY_MODEL_674a43ccdfaa450da2cb7c0f9211a015",
      "value": 1658616
     }
    },
    "be6259e1a31f40659caefeb58a64bc7e": {
     "model_module": "@jupyter-widgets/controls",
     "model_name": "ProgressStyleModel",
     "state": {
      "_model_module": "@jupyter-widgets/controls",
      "_model_module_version": "1.5.0",
      "_model_name": "ProgressStyleModel",
      "_view_count": null,
      "_view_module": "@jupyter-widgets/base",
      "_view_module_version": "1.2.0",
      "_view_name": "StyleView",
      "bar_color": null,
      "description_width": "initial"
     }
    },
    "c0577dede98243109131765307992f9d": {
     "model_module": "@jupyter-widgets/controls",
     "model_name": "DescriptionStyleModel",
     "state": {
      "_model_module": "@jupyter-widgets/controls",
      "_model_module_version": "1.5.0",
      "_model_name": "DescriptionStyleModel",
      "_view_count": null,
      "_view_module": "@jupyter-widgets/base",
      "_view_module_version": "1.2.0",
      "_view_name": "StyleView",
      "description_width": ""
     }
    },
    "cedd341a7bf34e9ab6f5635e739d6bb6": {
     "model_module": "@jupyter-widgets/controls",
     "model_name": "HBoxModel",
     "state": {
      "_dom_classes": [],
      "_model_module": "@jupyter-widgets/controls",
      "_model_module_version": "1.5.0",
      "_model_name": "HBoxModel",
      "_view_count": null,
      "_view_module": "@jupyter-widgets/controls",
      "_view_module_version": "1.5.0",
      "_view_name": "HBoxView",
      "box_style": "",
      "children": [
       "IPY_MODEL_7d0a7e1f138d46429b9a26dfd051acb2",
       "IPY_MODEL_23c6b292360f40eaaa2f85d10492d490"
      ],
      "layout": "IPY_MODEL_75776a5d595f42efa4c2fb8b28627bfb"
     }
    },
    "d0dfb8e00d484e5cb1665a800fa2ac3a": {
     "model_module": "@jupyter-widgets/controls",
     "model_name": "FloatProgressModel",
     "state": {
      "_dom_classes": [],
      "_model_module": "@jupyter-widgets/controls",
      "_model_module_version": "1.5.0",
      "_model_name": "FloatProgressModel",
      "_view_count": null,
      "_view_module": "@jupyter-widgets/controls",
      "_view_module_version": "1.5.0",
      "_view_name": "ProgressView",
      "bar_style": "success",
      "description": "Downloading: 100%",
      "description_tooltip": null,
      "layout": "IPY_MODEL_a235387c398e4d1cab2357f77ccfecaa",
      "max": 204240,
      "min": 0,
      "orientation": "horizontal",
      "style": "IPY_MODEL_be6259e1a31f40659caefeb58a64bc7e",
      "value": 204240
     }
    },
    "df61f9f8e1c446539e14abff3312f7bb": {
     "model_module": "@jupyter-widgets/controls",
     "model_name": "ProgressStyleModel",
     "state": {
      "_model_module": "@jupyter-widgets/controls",
      "_model_module_version": "1.5.0",
      "_model_name": "ProgressStyleModel",
      "_view_count": null,
      "_view_module": "@jupyter-widgets/base",
      "_view_module_version": "1.2.0",
      "_view_name": "StyleView",
      "bar_color": null,
      "description_width": "initial"
     }
    },
    "e0e489347bf84eaa9e6736345796531e": {
     "model_module": "@jupyter-widgets/base",
     "model_name": "LayoutModel",
     "state": {
      "_model_module": "@jupyter-widgets/base",
      "_model_module_version": "1.2.0",
      "_model_name": "LayoutModel",
      "_view_count": null,
      "_view_module": "@jupyter-widgets/base",
      "_view_module_version": "1.2.0",
      "_view_name": "LayoutView",
      "align_content": null,
      "align_items": null,
      "align_self": null,
      "border": null,
      "bottom": null,
      "display": null,
      "flex": null,
      "flex_flow": null,
      "grid_area": null,
      "grid_auto_columns": null,
      "grid_auto_flow": null,
      "grid_auto_rows": null,
      "grid_column": null,
      "grid_gap": null,
      "grid_row": null,
      "grid_template_areas": null,
      "grid_template_columns": null,
      "grid_template_rows": null,
      "height": null,
      "justify_content": null,
      "justify_items": null,
      "left": null,
      "margin": null,
      "max_height": null,
      "max_width": null,
      "min_height": null,
      "min_width": null,
      "object_fit": null,
      "object_position": null,
      "order": null,
      "overflow": null,
      "overflow_x": null,
      "overflow_y": null,
      "padding": null,
      "right": null,
      "top": null,
      "visibility": null,
      "width": null
     }
    },
    "e24a7e6e565b438796b74a6d7a875b37": {
     "model_module": "@jupyter-widgets/controls",
     "model_name": "DescriptionStyleModel",
     "state": {
      "_model_module": "@jupyter-widgets/controls",
      "_model_module_version": "1.5.0",
      "_model_name": "DescriptionStyleModel",
      "_view_count": null,
      "_view_module": "@jupyter-widgets/base",
      "_view_module_version": "1.2.0",
      "_view_name": "StyleView",
      "description_width": ""
     }
    },
    "e44979fabb774e2aa43fe9d69d61252c": {
     "model_module": "@jupyter-widgets/controls",
     "model_name": "FloatProgressModel",
     "state": {
      "_dom_classes": [],
      "_model_module": "@jupyter-widgets/controls",
      "_model_module_version": "1.5.0",
      "_model_name": "FloatProgressModel",
      "_view_count": null,
      "_view_module": "@jupyter-widgets/controls",
      "_view_module_version": "1.5.0",
      "_view_name": "ProgressView",
      "bar_style": "info",
      "description": "",
      "description_tooltip": null,
      "layout": "IPY_MODEL_165b8853010d484496c30fffa0ef5829",
      "max": 1,
      "min": 0,
      "orientation": "horizontal",
      "style": "IPY_MODEL_df61f9f8e1c446539e14abff3312f7bb",
      "value": 1
     }
    },
    "e75566c54bd64f03835d2c4a01308ead": {
     "model_module": "@jupyter-widgets/controls",
     "model_name": "HBoxModel",
     "state": {
      "_dom_classes": [],
      "_model_module": "@jupyter-widgets/controls",
      "_model_module_version": "1.5.0",
      "_model_name": "HBoxModel",
      "_view_count": null,
      "_view_module": "@jupyter-widgets/controls",
      "_view_module_version": "1.5.0",
      "_view_name": "HBoxView",
      "box_style": "",
      "children": [
       "IPY_MODEL_afa2cdbc58b84ad6a47b1227320a3ab4",
       "IPY_MODEL_a842d628f1c14d38b5eb97ceb1d3ee6d"
      ],
      "layout": "IPY_MODEL_f95d899e6d204500a1f0c2d9fd5e1f29"
     }
    },
    "f1af1d8a7c664c148cea0182a04ccde9": {
     "model_module": "@jupyter-widgets/controls",
     "model_name": "HBoxModel",
     "state": {
      "_dom_classes": [],
      "_model_module": "@jupyter-widgets/controls",
      "_model_module_version": "1.5.0",
      "_model_name": "HBoxModel",
      "_view_count": null,
      "_view_module": "@jupyter-widgets/controls",
      "_view_module_version": "1.5.0",
      "_view_name": "HBoxView",
      "box_style": "",
      "children": [
       "IPY_MODEL_b53f977d035247008b5c64f99bbc3bd8",
       "IPY_MODEL_709d672eca9f482296cf374e7b76845c"
      ],
      "layout": "IPY_MODEL_0d9c55de07d24f8aa6b4f158de5b652c"
     }
    },
    "f4168ede76c845c7a5106fde9eaec5da": {
     "model_module": "@jupyter-widgets/controls",
     "model_name": "HBoxModel",
     "state": {
      "_dom_classes": [],
      "_model_module": "@jupyter-widgets/controls",
      "_model_module_version": "1.5.0",
      "_model_name": "HBoxModel",
      "_view_count": null,
      "_view_module": "@jupyter-widgets/controls",
      "_view_module_version": "1.5.0",
      "_view_name": "HBoxView",
      "box_style": "",
      "children": [
       "IPY_MODEL_63459b39dc2b4cbca3f1fdaeb992a6ab",
       "IPY_MODEL_a92791e4afcf4c03af792bc0fb2b120e"
      ],
      "layout": "IPY_MODEL_5fc1df04d18948c0b87be10379ea51f3"
     }
    },
    "f95d899e6d204500a1f0c2d9fd5e1f29": {
     "model_module": "@jupyter-widgets/base",
     "model_name": "LayoutModel",
     "state": {
      "_model_module": "@jupyter-widgets/base",
      "_model_module_version": "1.2.0",
      "_model_name": "LayoutModel",
      "_view_count": null,
      "_view_module": "@jupyter-widgets/base",
      "_view_module_version": "1.2.0",
      "_view_name": "LayoutView",
      "align_content": null,
      "align_items": null,
      "align_self": null,
      "border": null,
      "bottom": null,
      "display": null,
      "flex": null,
      "flex_flow": null,
      "grid_area": null,
      "grid_auto_columns": null,
      "grid_auto_flow": null,
      "grid_auto_rows": null,
      "grid_column": null,
      "grid_gap": null,
      "grid_row": null,
      "grid_template_areas": null,
      "grid_template_columns": null,
      "grid_template_rows": null,
      "height": null,
      "justify_content": null,
      "justify_items": null,
      "left": null,
      "margin": null,
      "max_height": null,
      "max_width": null,
      "min_height": null,
      "min_width": null,
      "object_fit": null,
      "object_position": null,
      "order": null,
      "overflow": null,
      "overflow_x": null,
      "overflow_y": null,
      "padding": null,
      "right": null,
      "top": null,
      "visibility": null,
      "width": null
     }
    },
    "fc3865ada9874c0c943ac6a1cc27440a": {
     "model_module": "@jupyter-widgets/base",
     "model_name": "LayoutModel",
     "state": {
      "_model_module": "@jupyter-widgets/base",
      "_model_module_version": "1.2.0",
      "_model_name": "LayoutModel",
      "_view_count": null,
      "_view_module": "@jupyter-widgets/base",
      "_view_module_version": "1.2.0",
      "_view_name": "LayoutView",
      "align_content": null,
      "align_items": null,
      "align_self": null,
      "border": null,
      "bottom": null,
      "display": null,
      "flex": null,
      "flex_flow": null,
      "grid_area": null,
      "grid_auto_columns": null,
      "grid_auto_flow": null,
      "grid_auto_rows": null,
      "grid_column": null,
      "grid_gap": null,
      "grid_row": null,
      "grid_template_areas": null,
      "grid_template_columns": null,
      "grid_template_rows": null,
      "height": null,
      "justify_content": null,
      "justify_items": null,
      "left": null,
      "margin": null,
      "max_height": null,
      "max_width": null,
      "min_height": null,
      "min_width": null,
      "object_fit": null,
      "object_position": null,
      "order": null,
      "overflow": null,
      "overflow_x": null,
      "overflow_y": null,
      "padding": null,
      "right": null,
      "top": null,
      "visibility": null,
      "width": null
     }
    },
    "ff88935971644df1a1a8e8b19dfb0b40": {
     "model_module": "@jupyter-widgets/controls",
     "model_name": "HTMLModel",
     "state": {
      "_dom_classes": [],
      "_model_module": "@jupyter-widgets/controls",
      "_model_module_version": "1.5.0",
      "_model_name": "HTMLModel",
      "_view_count": null,
      "_view_module": "@jupyter-widgets/controls",
      "_view_module_version": "1.5.0",
      "_view_name": "HTMLView",
      "description": "",
      "description_tooltip": null,
      "layout": "IPY_MODEL_605b35fa125b42058498f468d19673b5",
      "placeholder": "​",
      "style": "IPY_MODEL_3e84f0639d724728b12119f061fad032",
      "value": " 6.01k/6.01k [00:00&lt;00:00, 104kB/s]"
     }
    }
   }
  }
 },
 "nbformat": 4,
 "nbformat_minor": 1
}
